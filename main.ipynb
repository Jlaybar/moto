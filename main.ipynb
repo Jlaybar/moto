{
  "cells": [
    {
      "cell_type": "markdown",
      "id": "a5d04582",
      "metadata": {},
      "source": [
        "### Variables"
      ]
    },
    {
      "cell_type": "code",
      "execution_count": 1,
      "id": "3a72b572",
      "metadata": {},
      "outputs": [
        {
          "name": "stdout",
          "output_type": "stream",
          "text": [
            "marca:bmw\n",
            "modelo:f_900_r\n"
          ]
        }
      ],
      "source": [
        "# Carga datos \n",
        "dict_modelos = {\n",
        "    \"BMW F 900 R\": \"f_900_r\",\n",
        "    \"BMW K 1600 B\": \"k_1600_b\",\n",
        "    \"BMW R 12 NineT\": \"r_12_ninet\"\n",
        "    \"\" \n",
        "\n",
        "}\n",
        "\n",
        "#marca  = 'yamaha'\n",
        "#modelo_id ='x-adv' \n",
        "#modelo_id ='t_max_530'\n",
        "\n",
        "\n",
        "MARCA = \"bmw\"\n",
        "MODELO_DESC = \"BMW F 900 R\"  # descripción del modelo\n",
        "# Obtener modelo_id a partir del nombre descriptivo\n",
        "MODELO = dict_modelos.get(MODELO_DESC)\n",
        "\n",
        "print(f'marca:{MARCA}')\n",
        "print(f'modelo:{MODELO}')\n",
        "\n",
        "PATH_ROW = f\"data/{MARCA}/{MODELO}\"\n"
      ]
    },
    {
      "cell_type": "code",
      "execution_count": null,
      "id": "3c59a882",
      "metadata": {},
      "outputs": [],
      "source": [
        "\n",
        "\n",
        "marca  = 'honda'\n",
        "modelo  ='x-adv' \n",
        "\n",
        "marca = 'honda'\n",
        "modelo = 'forza'\n",
        "\n",
        "\n"
      ]
    },
    {
      "cell_type": "code",
      "execution_count": 4,
      "id": "e6b246bb",
      "metadata": {},
      "outputs": [
        {
          "name": "stdout",
          "output_type": "stream",
          "text": [
            "https://motos.coches.net/segunda-mano/honda/forza/?pg=1\n"
          ]
        }
      ],
      "source": [
        " print( f\"https://motos.coches.net/segunda-mano/{marca}/{modelo}/?pg=1\")"
      ]
    },
    {
      "cell_type": "markdown",
      "id": "35a00c43",
      "metadata": {},
      "source": [
        "### 1. Carga de datos"
      ]
    },
    {
      "cell_type": "code",
      "execution_count": 14,
      "id": "73b2b171",
      "metadata": {},
      "outputs": [
        {
          "name": "stdout",
          "output_type": "stream",
          "text": [
            "✅ El archivo data\\honda\\forza.json ya existe. No se ejecutará el Actor.\n",
            "Path: 'data/honda/forza'\n",
            "Extaidos 1 contenidos JSON\n",
            "Extaidos 1 contenidos HTML\n",
            "Texto extraído: ',\"totalPages\":27,\"totalResults\":'\n",
            "Páginas: 27\n",
            "✅ El archivo data\\honda\\forza.json ya existe y contiene 27 registros. No se borra.\n",
            "✅ El archivo data\\honda\\forza.json ya existe. No se ejecutará el Actor.\n",
            " El archivo data/honda/x-adv.json ya existe. No se ejecutará el Actor.\n"
          ]
        }
      ],
      "source": [
        "# CArga de datos\n",
        "from fun_get_data import get_apify_data\n",
        "from fun_get_data import delete_json_file\n",
        "from fun_parse_data import get_num_pages\n",
        "\n",
        "\n",
        "# EXtraemos la primera página \n",
        "get_apify_data (marca,modelo)\n",
        "\n",
        "# De la primera pagina obtener el número total de páginas\n",
        "num_paginas = get_num_pages (marca,modelo)\n",
        "\n",
        "#Borramos el archivo marca/modelo/pg=1\n",
        "delete_json_file(marca,modelo,num_paginas)\n",
        "\n",
        "# Extraemos todas las páginas del modelo\n",
        "get_apify_data (marca, modelo , num_paginas)\n",
        "\n",
        "\n",
        "print(f\" El archivo {json_path} ya existe. No se ejecutará el Actor.\")"
      ]
    },
    {
      "cell_type": "markdown",
      "id": "0141d970",
      "metadata": {},
      "source": [
        "### 2. Extraccion de los datos "
      ]
    },
    {
      "cell_type": "code",
      "execution_count": 18,
      "id": "9a5600e2",
      "metadata": {},
      "outputs": [],
      "source": [
        "\n",
        "marca  = 'honda'\n",
        "modelo  ='x-adv' \n",
        "\n",
        "#marca = 'honda'\n",
        "#modelo = 'forza'\n",
        "\n",
        "marca  = 'yamaha'\n",
        "modelo ='t_max_530'\n",
        "\n",
        "#marca  = 'bmw'\n",
        "#modelo = \"f_900_r\"\n"
      ]
    },
    {
      "cell_type": "code",
      "execution_count": 19,
      "id": "82a96575",
      "metadata": {},
      "outputs": [
        {
          "name": "stdout",
          "output_type": "stream",
          "text": [
            "✅Cargados 1 archivo(s) JSON\n",
            "Error: JSON vacío en data\\yamaha\\t_max_530.json. Se omite.\n",
            "✅Extaidos 0 contenidos JSON\n",
            "✅Extaidos 0 contenidos HTML\n",
            "✅Extaidos  0 contenidos ITMEMS\n",
            "✅Extaidos  0 contenidos ITMEMS\n"
          ]
        }
      ],
      "source": [
        "import pandas as pd\n",
        "from fun_parse_data import get_items_json\n",
        "from fun_db import insert_motos_from_dataframe\n",
        "\n",
        "#carga de datos json\n",
        "items_json = get_items_json (marca, modelo)\n",
        "# convertimos en un dataframe \n",
        "items_df = pd.DataFrame(items_json)\n"
      ]
    },
    {
      "cell_type": "markdown",
      "id": "bbe0db15",
      "metadata": {},
      "source": [
        "### 3. Grafico json"
      ]
    },
    {
      "cell_type": "code",
      "execution_count": 17,
      "id": "c6ee12d2",
      "metadata": {},
      "outputs": [
        {
          "name": "stderr",
          "output_type": "stream",
          "text": [
            "BokehDeprecationWarning: CDSView.source is no longer needed, and is now ignored. In a future release, passing source will result an error.\n",
            "BokehDeprecationWarning: CDSView.filters was deprecated in bokeh 3.0. Use CDSView.filter instead.\n",
            "BokehDeprecationWarning: CDSView.source is no longer needed, and is now ignored. In a future release, passing source will result an error.\n",
            "BokehDeprecationWarning: CDSView.filters was deprecated in bokeh 3.0. Use CDSView.filter instead.\n",
            "BokehDeprecationWarning: CDSView.source is no longer needed, and is now ignored. In a future release, passing source will result an error.\n",
            "BokehDeprecationWarning: CDSView.filters was deprecated in bokeh 3.0. Use CDSView.filter instead.\n"
          ]
        },
        {
          "data": {
            "text/html": [
              "\n",
              "  <div id=\"c043d1e2-5f13-4d1e-a232-d51f1edd248e\" data-root-id=\"p1110\" style=\"display: contents;\"></div>\n"
            ]
          },
          "metadata": {},
          "output_type": "display_data"
        },
        {
          "data": {
            "application/javascript": "(function(root) {\n  function embed_document(root) {\n  const docs_json = {\"e5940408-0e53-479e-ba4c-009c3114017a\":{\"version\":\"3.3.4\",\"title\":\"Bokeh Application\",\"roots\":[{\"type\":\"object\",\"name\":\"Column\",\"id\":\"p1110\",\"attributes\":{\"children\":[{\"type\":\"object\",\"name\":\"Select\",\"id\":\"p1108\",\"attributes\":{\"js_property_callbacks\":{\"type\":\"map\",\"entries\":[[\"change:value\",[{\"type\":\"object\",\"name\":\"CustomJS\",\"id\":\"p1109\",\"attributes\":{\"args\":{\"type\":\"map\",\"entries\":[[\"sel\",{\"id\":\"p1108\"}],[\"src_y\",{\"type\":\"object\",\"name\":\"ColumnDataSource\",\"id\":\"p1001\",\"attributes\":{\"selected\":{\"type\":\"object\",\"name\":\"Selection\",\"id\":\"p1002\",\"attributes\":{\"indices\":[],\"line_indices\":[]}},\"selection_policy\":{\"type\":\"object\",\"name\":\"UnionRenderers\",\"id\":\"p1003\"},\"data\":{\"type\":\"map\",\"entries\":[[\"km\",{\"type\":\"ndarray\",\"array\":{\"type\":\"bytes\",\"data\":\"AQAAAAEAAAABAAAAAQAAAAEAAAABAAAAAgAAAAQAAAANAAAArwEAANcCAABzAwAAcwMAALYDAABMBAAAyAQAABQFAAAVBQAAQAYAAEIGAABGBgAA0AcAANAHAAB8CQAAGAoAALgLAAC4CwAAuAsAAGcMAAB5DAAAigwAAD4NAAC+DgAA2A4AAKAPAACgDwAAoA8AAMgPAABoEAAALBIAAMASAAAkEwAAiBMAALoTAADYEwAA/BYAADcXAABwFwAAnBgAAM4ZAAAmGwAAjRsAAAscAABOHAAAkRwAALAdAADJHQAAFB4AAIweAABAHwAASSAAADQhAAD6IgAAKCMAACgjAAAcJQAAHCUAAB0lAAAQJwAAMCoAAPgqAADsLAAA7CwAAOAuAABkLwAApTEAALAxAAC6MQAAADIAAGQyAAD+MwAAXzYAAKU2AACwNgAAsDYAALA2AAAENwAAZTcAAGs3AABbOgAAmDoAABw+AAArPwAAKz8AAPNAAABoQgAAfkUAAL9FAABQRgAAe0kAACxMAABLTAAAg0wAAMJMAABoTQAA4U8AAOFPAADlTwAA5U8AAEVRAACkUQAACFIAAAhSAAAwUgAAqlMAAO9TAACrVAAA8FUAAJ9WAADvWwAA71sAAO9bAACoXwAA0GYAABFpAABmbAAAVG8AAF5vAACQbwAASHEAAEhxAABMcwAAuHcAAEx4AAD8hQAAaKYAAJ6nAAA=\"},\"shape\":[137],\"dtype\":\"int32\",\"order\":\"little\"}],[\"precio\",{\"type\":\"ndarray\",\"array\":{\"type\":\"bytes\",\"data\":\"AAAAAACIw0AAAAAAALvHQAAAAAAASsVAAAAAAACOwkAAAAAAAOfDQAAAAAAAgsRAAAAAAIBTw0AAAAAAABLGQAAAAAAArsVAAAAAAIB/xEAAAAAAAB7EQAAAAAAAj8FAAAAAAACDw0AAAAAAAIPDQAAAAAAAcMdAAAAAAABiwUAAAAAAAErFQAAAAAAAfMVAAAAAAABCvUAAAAAAAILEQAAAAAAAVsNAAAAAAAB9xEAAAAAAAEy9QAAAAAAAjsJAAAAAAABWw0AAAAAAAI/BQAAAAAAA7MNAAAAAAABAv0AAAAAAgHXGQAAAAAAAmsBAAAAAAABOu0AAAAAAAMDCQAAAAAAAg8NAAAAAAICHw0AAAAAAAJXAQAAAAAAATL1AAAAAAACVwEAAAAAAAILEQAAAAAAAmsBAAAAAAAAxwEAAAAAAAFzCQAAAAAAA58NAAAAAAAAEwEAAAAAAAJTBQAAAAAAAmsBAAAAAAACawEAAAAAAAKS/QAAAAAAATL1AAAAAAABiwUAAAAAAAIO8QAAAAAAASsVAAAAAAABCvUAAAAAAABLGQAAAAAAA/sBAAAAAAACVwEAAAAAAAMzAQAAAAACANcBAAAAAAABMvUAAAAAAAMzAQAAAAAAAUrxAAAAAAACawEAAAAAAAPLCQAAAAAAAV7tAAAAAAACawEAAAAAAADHAQAAAAAAAO79AAAAAAABiwUAAAAAAAI/BQAAAAAAAlLFAAAAAAAAUvkAAAAAAAG6+QAAAAAAADr9AAAAAAAD+wEAAAAAAAI7CQAAAAACAl8BAAAAAAABTu0AAAAAAAE67QAAAAAAANsBAAAAAAABMvUAAAAAAADbAQAAAAAAAYsFAAAAAAAA/v0AAAAAAgGfAQAAAAAAAlMFAAAAAAAC+uUAAAAAAAG6+QAAAAAAAFL5AAAAAAADSvkAAAAAAAFe7QAAAAAAAMMFAAAAAAABMvUAAAAAAAOXAQAAAAAAAQr1AAAAAAABCvUAAAAAAAPO6QAAAAAAATL1AAAAAAABcwkAAAAAAAOi8QAAAAAAAlcBAAAAAAACkv0AAAAAAAEK9QAAAAAAAIrpAAAAAAABkuUAAAAAAAEC/QAAAAAAAFrxAAAAAAIAUwUAAAAAAgBTBQAAAAAAAbr5AAAAAAABuvkAAAAAAAE67QAAAAAAAAL5AAAAAAADovEAAAAAAAMzAQAAAAAAAXrpAAAAAAADIuUAAAAAAAEu9QAAAAAAAyLlAAAAAAACwvUAAAAAAAIO8QAAAAAAAQr1AAAAAAABCvUAAAAAAAEK9QAAAAACAX8FAAAAAAADqukAAAAAAAPS6QAAAAAAAUrxAAAAAAAAmu0AAAAAAAE/AQAAAAAAATrtAAAAAAAAiukAAAAAAACK6QAAAAAAAerxAAAAAAAB4vkAAAAAAAB+8QAAAAAAATL1AAAAAAAAuuEAAAAAAAFq5QA==\"},\"shape\":[137],\"dtype\":\"float64\",\"order\":\"little\"}],[\"url\",{\"type\":\"ndarray\",\"array\":[\"https://motos.coches.net/ocasion/bmw/f_900_r/2025-en-murcia-8617140.htm\",\"https://motos.coches.net/ocasion/bmw/f_900_r/2025-en-navarra-8778963.htm\",\"https://motos.coches.net/ocasion/bmw/f_900_r/2025-en-leon-8818100.htm\",\"https://motos.coches.net/ocasion/bmw/f_900_r/2025-en-murcia-8673553.htm\",\"https://motos.coches.net/ocasion/bmw/f_900_r/2025-en-vizcaya-8817626.htm\",\"https://motos.coches.net/ocasion/bmw/f_900_r/2025-en-barcelona-8811434.htm\",\"https://motos.coches.net/ocasion/bmw/f_900_r/2024-en-barcelona-8631733.htm\",\"https://motos.coches.net/ocasion/bmw/f_900_r/2025-en-asturias-8694902.htm\",\"https://motos.coches.net/ocasion/bmw/f_900_r/2024-en-barcelona-8781688.htm\",\"https://motos.coches.net/ocasion/bmw/f_900_r/2024-en-alicante-8791264.htm\",\"https://motos.coches.net/ocasion/bmw/f_900_r/2024-en-alicante-8699114.htm\",\"https://motos.coches.net/ocasion/bmw/f_900_r/2023-en-valencia-8783436.htm\",\"https://motos.coches.net/ocasion/bmw/f_900_r/2025-en-madrid-8791158.htm\",\"https://motos.coches.net/ocasion/bmw/f_900_r/2025-en-valencia-8685263.htm\",\"https://motos.coches.net/ocasion/bmw/f_900_r/2025-en-granada-8809384.htm\",\"https://motos.coches.net/ocasion/bmw/f_900_r/2022-en-lleida-8411852.htm\",\"https://motos.coches.net/ocasion/bmw/f_900_r/2025-en-sta_c_tenerife-8805487.htm\",\"https://motos.coches.net/ocasion/bmw/f_900_r/2025-en-asturias-8770609.htm\",\"https://motos.coches.net/ocasion/bmw/f_900_r/2021-en-valladolid-8791076.htm\",\"https://motos.coches.net/ocasion/bmw/f_900_r/2024-en-barcelona-8643417.htm\",\"https://motos.coches.net/ocasion/bmw/f_900_r/2024-en-girona-8667434.htm\",\"https://motos.coches.net/ocasion/bmw/f_900_r/2024-en-las_palmas-8669512.htm\",\"https://motos.coches.net/ocasion/bmw/f_900_r/2022-en-toledo-8816947.htm\",\"https://motos.coches.net/ocasion/bmw/f_900_r/2024-en-toledo-8788009.htm\",\"https://motos.coches.net/ocasion/bmw/f_900_r/2025-en-barcelona-8740738.htm\",\"https://motos.coches.net/ocasion/bmw/f_900_r/2023-en-las_palmas-8815498.htm\",\"https://motos.coches.net/ocasion/bmw/f_900_r/2025-en-madrid-8786886.htm\",\"https://motos.coches.net/ocasion/bmw/f_900_r/2024-en-madrid-8768997.htm\",\"https://motos.coches.net/ocasion/bmw/f_900_r/2025-en-cantabria-8804248.htm\",\"https://motos.coches.net/ocasion/bmw/f_900_r/2022-en-barcelona-7886341.htm\",\"https://motos.coches.net/ocasion/bmw/f_900_r/2022-en-madrid-8712206.htm\",\"https://motos.coches.net/ocasion/bmw/f_900_r/2024-en-barcelona-8740820.htm\",\"https://motos.coches.net/ocasion/bmw/f_900_r/2024-en-madrid-8787629.htm\",\"https://motos.coches.net/ocasion/bmw/f_900_r/2025-en--8816194.htm\",\"https://motos.coches.net/ocasion/bmw/f_900_r/2023-en-barcelona-8802038.htm\",\"https://motos.coches.net/ocasion/bmw/f_900_r/2020-en-albacete-8600053.htm\",\"https://motos.coches.net/ocasion/bmw/f_900_r/2023-en-barcelona-8802038.htm\",\"https://motos.coches.net/ocasion/bmw/f_900_r/2023-en-baleares-8402454.htm\",\"https://motos.coches.net/ocasion/bmw/f_900_r/2021-en-baleares-8777978.htm\",\"https://motos.coches.net/ocasion/bmw/f_900_r/2023-en-madrid-8717755.htm\",\"https://motos.coches.net/ocasion/bmw/f_900_r/2024-en-sta_c_tenerife-8799719.htm\",\"https://motos.coches.net/ocasion/bmw/f_900_r/2023-en-cantabria-8768430.htm\",\"https://motos.coches.net/ocasion/bmw/f_900_r/2023-en-madrid-8790369.htm\",\"https://motos.coches.net/ocasion/bmw/f_900_r/2023-en-asturias-8804167.htm\",\"https://motos.coches.net/ocasion/bmw/f_900_r/2022-en-baleares-8818460.htm\",\"https://motos.coches.net/ocasion/bmw/f_900_r/2024-en-murcia-8816415.htm\",\"https://motos.coches.net/ocasion/bmw/f_900_r/2023-en--8818204.htm\",\"https://motos.coches.net/ocasion/bmw/f_900_r/2023-en-lugo-8821205.htm\",\"https://motos.coches.net/ocasion/bmw/f_900_r/2022-en-tarragona-8796071.htm\",\"https://motos.coches.net/ocasion/bmw/f_900_r/2021-en-madrid-8761639.htm\",\"https://motos.coches.net/ocasion/bmw/f_900_r/2023-en-baleares-8450210.htm\",\"https://motos.coches.net/ocasion/bmw/f_900_r/2020-en-madrid-8765413.htm\",\"https://motos.coches.net/ocasion/bmw/f_900_r/2023-en-a_coruna-8689540.htm\",\"https://motos.coches.net/ocasion/bmw/f_900_r/2022-en-madrid-8770145.htm\",\"https://motos.coches.net/ocasion/bmw/f_900_r/2021-en-madrid-8646902.htm\",\"https://motos.coches.net/ocasion/bmw/f_900_r/2023-en--8794406.htm\",\"https://motos.coches.net/ocasion/bmw/f_900_r/2023-en-barcelona-8801610.htm\",\"https://motos.coches.net/ocasion/bmw/f_900_r/2021-en-madrid-8773584.htm\",\"https://motos.coches.net/ocasion/bmw/f_900_r/2023-en-madrid-8807624.htm\",\"https://motos.coches.net/ocasion/bmw/f_900_r/2021-en-madrid-8808338.htm\",\"https://motos.coches.net/ocasion/bmw/f_900_r/2021-en-leon-8821097.htm\",\"https://motos.coches.net/ocasion/bmw/f_900_r/2023-en-granada-8819853.htm\",\"https://motos.coches.net/ocasion/bmw/f_900_r/2022-en-zaragoza-8662300.htm\",\"https://motos.coches.net/ocasion/bmw/f_900_r/2021-en-cadiz-8781087.htm\",\"https://motos.coches.net/ocasion/bmw/f_900_r/2023-en-barcelona-8802112.htm\",\"https://motos.coches.net/ocasion/bmw/f_900_r/2023-en-malaga-8806421.htm\",\"https://motos.coches.net/ocasion/bmw/f_900_r/2022-en-vizcaya-8810577.htm\",\"https://motos.coches.net/ocasion/bmw/f_900_r/2023-en-madrid-8821234.htm\",\"https://motos.coches.net/ocasion/bmw/f_900_r/2020-en-alicante-8799806.htm\",\"https://motos.coches.net/ocasion/bmw/f_900_r/2021-en--8770025.htm\",\"https://motos.coches.net/ocasion/bmw/f_900_r/2022-en-barcelona-8802062.htm\",\"https://motos.coches.net/ocasion/bmw/f_900_r/2020-en-alicante-8797779.htm\",\"https://motos.coches.net/ocasion/bmw/f_900_r/2023-en-zaragoza-8763618.htm\",\"https://motos.coches.net/ocasion/bmw/f_900_r/2024-en-granada-8813086.htm\",\"https://motos.coches.net/ocasion/bmw/f_900_r/2022-en-alicante-8695807.htm\",\"https://motos.coches.net/ocasion/bmw/f_900_r/2021-en-alicante-8811544.htm\",\"https://motos.coches.net/ocasion/bmw/f_900_r/2020-en-murcia-8784443.htm\",\"https://motos.coches.net/ocasion/bmw/f_900_r/2021-en-guipuzcoa-8567335.htm\",\"https://motos.coches.net/ocasion/bmw/f_900_r/2023-en--8816314.htm\",\"https://motos.coches.net/ocasion/f_900_r/2021-en--8779573.htm\",\"https://motos.coches.net/ocasion/bmw/f_900_r/2023-en-alicante-8780664.htm\",\"https://motos.coches.net/ocasion/bmw/f_900_r/2023-en-sevilla-8815880.htm\",\"https://motos.coches.net/ocasion/bmw/f_900_r/2020-en-madrid-8767948.htm\",\"https://motos.coches.net/ocasion/bmw/f_900_r/2022-en-baleares-8771952.htm\",\"https://motos.coches.net/ocasion/bmw/f_900_r/2022-en-madrid-8811619.htm\",\"https://motos.coches.net/ocasion/bmw/f_900_r/2022-en-barcelona-8802085.htm\",\"https://motos.coches.net/ocasion/bmw/f_900_r/2022-en-madrid-8803107.htm\",\"https://motos.coches.net/ocasion/bmw/f_900_r/2022-en-zaragoza-8553312.htm\",\"https://motos.coches.net/ocasion/bmw/f_900_r/2022-en-sevilla-8816399.htm\",\"https://motos.coches.net/ocasion/bmw/f_900_r/2022-en-madrid-8792841.htm\",\"https://motos.coches.net/ocasion/bmw/f_900_r/2023-en-toledo-8791131.htm\",\"https://motos.coches.net/ocasion/bmw/f_900_r/2023-en-leon-8667567.htm\",\"https://motos.coches.net/ocasion/bmw/f_900_r/2020-en-madrid-8693879.htm\",\"https://motos.coches.net/ocasion/bmw/f_900_r/2020-en-madrid-8693879.htm\",\"https://motos.coches.net/ocasion/bmw/f_900_r/2022-en-barcelona-8816639.htm\",\"https://motos.coches.net/ocasion/f_900_r/2021-en--8808072.htm\",\"https://motos.coches.net/ocasion/bmw/f_900_r/2023-en-navarra-8780719.htm\",\"https://motos.coches.net/ocasion/bmw/f_900_r/2022-en-valencia-8798234.htm\",\"https://motos.coches.net/ocasion/bmw/f_900_r/2021-en-las_palmas-8799512.htm\",\"https://motos.coches.net/ocasion/bmw/f_900_r/2022-en-murcia-8816406.htm\",\"https://motos.coches.net/ocasion/bmw/f_900_r/2022-en-las_palmas-8811174.htm\",\"https://motos.coches.net/ocasion/bmw/f_900_r/2020-en-barcelona-8790874.htm\",\"https://motos.coches.net/ocasion/bmw/f_900_r/2021-en-lleida-8821562.htm\",\"https://motos.coches.net/ocasion/bmw/f_900_r/2021-en--8816949.htm\",\"https://motos.coches.net/ocasion/bmw/f_900_r/2022-en-zaragoza-8322482.htm\",\"https://motos.coches.net/ocasion/bmw/f_900_r/2023-en-alicante-8775229.htm\",\"https://motos.coches.net/ocasion/bmw/f_900_r/2023-en-alicante-8775229.htm\",\"https://motos.coches.net/ocasion/bmw/f_900_r/2023-en-madrid-8815016.htm\",\"https://motos.coches.net/ocasion/bmw/f_900_r/2023-en-barcelona-8814660.htm\",\"https://motos.coches.net/ocasion/bmw/f_900_r/2022-en-alicante-8819078.htm\",\"https://motos.coches.net/ocasion/bmw/f_900_r/2020-en-alava-8804749.htm\",\"https://motos.coches.net/ocasion/bmw/f_900_r/2021-en-tarragona-8511423.htm\",\"https://motos.coches.net/ocasion/bmw/f_900_r/2021-en-las_palmas-8655252.htm\",\"https://motos.coches.net/ocasion/bmw/f_900_r/2020-en-madrid-8798075.htm\",\"https://motos.coches.net/ocasion/bmw/f_900_r/2020-en-madrid-8493997.htm\",\"https://motos.coches.net/ocasion/bmw/f_900_r/2021-en-barcelona-8771361.htm\",\"https://motos.coches.net/ocasion/bmw/f_900_r/2020-en-madrid-8486380.htm\",\"https://motos.coches.net/ocasion/bmw/f_900_r/2021-en-tarragona-8744994.htm\",\"https://motos.coches.net/ocasion/bmw/f_900_r/2022-en-barcelona-8807436.htm\",\"https://motos.coches.net/ocasion/bmw/f_900_r/2021-en-barcelona-8741697.htm\",\"https://motos.coches.net/ocasion/bmw/f_900_r/2021-en-madrid-8741698.htm\",\"https://motos.coches.net/ocasion/bmw/f_900_r/2021-en-valencia-8741699.htm\",\"https://motos.coches.net/ocasion/bmw/f_900_r/2023-en-barcelona-8668711.htm\",\"https://motos.coches.net/ocasion/bmw/f_900_r/2020-en-madrid-8613824.htm\",\"https://motos.coches.net/ocasion/bmw/f_900_r/2020-en-murcia-8593810.htm\",\"https://motos.coches.net/ocasion/bmw/f_900_r/2020-en-barcelona-8817032.htm\",\"https://motos.coches.net/ocasion/bmw/f_900_r/2020-en-madrid-8794468.htm\",\"https://motos.coches.net/ocasion/bmw/f_900_r/2022-en-barcelona-8816902.htm\",\"https://motos.coches.net/ocasion/bmw/f_900_r/2020-en-valencia-8651420.htm\",\"https://motos.coches.net/ocasion/bmw/f_900_r/2022-en-barcelona-8802099.htm\",\"https://motos.coches.net/ocasion/bmw/f_900_r/2022-en-barcelona-8802099.htm\",\"https://motos.coches.net/ocasion/bmw/f_900_r/2022-en-barcelona-8757020.htm\",\"https://motos.coches.net/ocasion/bmw/f_900_r/2023-en-baleares-8704057.htm\",\"https://motos.coches.net/ocasion/bmw/f_900_r/2022-en-barcelona-8699999.htm\",\"https://motos.coches.net/ocasion/bmw/f_900_r/2020-en-huesca-8728630.htm\",\"https://motos.coches.net/ocasion/bmw/f_900_r/2020-en-madrid-8816092.htm\",\"https://motos.coches.net/ocasion/bmw/f_900_r/2021-en-madrid-8818390.htm\"],\"shape\":[137],\"dtype\":\"object\",\"order\":\"little\"}],[\"year\",[2025,2025,2025,2025,2025,2025,2024,2025,2024,2024,2024,2023,2025,2025,2025,2022,2025,2025,2021,2024,2024,2024,2022,2024,2025,2023,2025,2024,2025,2022,2022,2024,2024,2025,2023,2020,2023,2023,2021,2023,2024,2023,2023,2023,2022,2024,2023,2023,2022,2021,2023,2020,2023,2022,2021,2023,2023,2021,2023,2021,2021,2023,2022,2021,2023,2023,2022,2023,2020,2021,2022,2020,2023,2024,2022,2021,2020,2021,2023,2021,2023,2023,2020,2023,2022,2022,2022,2022,2022,2022,2023,2023,2020,2020,2022,2021,2023,2022,2021,2022,2022,2020,2021,2021,2022,2023,2023,2023,2023,2022,2020,2021,2021,2020,2020,2021,2020,2021,2022,2021,2021,2021,2023,2020,2020,2020,2020,2022,2020,2022,2022,2022,2023,2022,2020,2020,2021]],[\"precio_fmt\",[\"10.000\\u20ac\",\"12.150\\u20ac\",\"10.900\\u20ac\",\"9.500\\u20ac\",\"10.190\\u20ac\",\"10.500\\u20ac\",\"9.895\\u20ac\",\"11.300\\u20ac\",\"11.100\\u20ac\",\"10.495\\u20ac\",\"10.300\\u20ac\",\"8.990\\u20ac\",\"9.990\\u20ac\",\"9.990\\u20ac\",\"12.000\\u20ac\",\"8.900\\u20ac\",\"10.900\\u20ac\",\"11.000\\u20ac\",\"7.490\\u20ac\",\"10.500\\u20ac\",\"9.900\\u20ac\",\"10.490\\u20ac\",\"7.500\\u20ac\",\"9.500\\u20ac\",\"9.900\\u20ac\",\"8.990\\u20ac\",\"10.200\\u20ac\",\"8.000\\u20ac\",\"11.499\\u20ac\",\"8.500\\u20ac\",\"6.990\\u20ac\",\"9.600\\u20ac\",\"9.990\\u20ac\",\"9.999\\u20ac\",\"8.490\\u20ac\",\"7.500\\u20ac\",\"8.490\\u20ac\",\"10.500\\u20ac\",\"8.500\\u20ac\",\"8.290\\u20ac\",\"9.400\\u20ac\",\"10.190\\u20ac\",\"8.200\\u20ac\",\"9.000\\u20ac\",\"8.500\\u20ac\",\"8.500\\u20ac\",\"8.100\\u20ac\",\"7.500\\u20ac\",\"8.900\\u20ac\",\"7.299\\u20ac\",\"10.900\\u20ac\",\"7.490\\u20ac\",\"11.300\\u20ac\",\"8.700\\u20ac\",\"8.490\\u20ac\",\"8.600\\u20ac\",\"8.299\\u20ac\",\"7.500\\u20ac\",\"8.600\\u20ac\",\"7.250\\u20ac\",\"8.500\\u20ac\",\"9.700\\u20ac\",\"6.999\\u20ac\",\"8.500\\u20ac\",\"8.290\\u20ac\",\"7.995\\u20ac\",\"8.900\\u20ac\",\"8.990\\u20ac\",\"4.500\\u20ac\",\"7.700\\u20ac\",\"7.790\\u20ac\",\"7.950\\u20ac\",\"8.700\\u20ac\",\"9.500\\u20ac\",\"8.495\\u20ac\",\"6.995\\u20ac\",\"6.990\\u20ac\",\"8.300\\u20ac\",\"7.500\\u20ac\",\"8.300\\u20ac\",\"8.900\\u20ac\",\"7.999\\u20ac\",\"8.399\\u20ac\",\"9.000\\u20ac\",\"6.590\\u20ac\",\"7.790\\u20ac\",\"7.700\\u20ac\",\"7.890\\u20ac\",\"6.999\\u20ac\",\"8.800\\u20ac\",\"7.500\\u20ac\",\"8.650\\u20ac\",\"7.490\\u20ac\",\"7.490\\u20ac\",\"6.899\\u20ac\",\"7.500\\u20ac\",\"9.400\\u20ac\",\"7.400\\u20ac\",\"8.490\\u20ac\",\"8.100\\u20ac\",\"7.490\\u20ac\",\"6.690\\u20ac\",\"6.500\\u20ac\",\"8.000\\u20ac\",\"7.190\\u20ac\",\"8.745\\u20ac\",\"8.745\\u20ac\",\"7.790\\u20ac\",\"7.790\\u20ac\",\"6.990\\u20ac\",\"7.680\\u20ac\",\"7.400\\u20ac\",\"8.600\\u20ac\",\"6.750\\u20ac\",\"6.600\\u20ac\",\"7.499\\u20ac\",\"6.600\\u20ac\",\"7.600\\u20ac\",\"7.299\\u20ac\",\"7.490\\u20ac\",\"7.490\\u20ac\",\"7.490\\u20ac\",\"8.895\\u20ac\",\"6.890\\u20ac\",\"6.900\\u20ac\",\"7.250\\u20ac\",\"6.950\\u20ac\",\"8.350\\u20ac\",\"6.990\\u20ac\",\"6.690\\u20ac\",\"6.690\\u20ac\",\"7.290\\u20ac\",\"7.800\\u20ac\",\"7.199\\u20ac\",\"7.500\\u20ac\",\"6.190\\u20ac\",\"6.490\\u20ac\"]],[\"km_fmt\",[\"1 km\",\"1 km\",\"1 km\",\"1 km\",\"1 km\",\"1 km\",\"2 km\",\"4 km\",\"13 km\",\"431 km\",\"727 km\",\"883 km\",\"883 km\",\"950 km\",\"1.100 km\",\"1.224 km\",\"1.300 km\",\"1.301 km\",\"1.600 km\",\"1.602 km\",\"1.606 km\",\"2.000 km\",\"2.000 km\",\"2.428 km\",\"2.584 km\",\"3.000 km\",\"3.000 km\",\"3.000 km\",\"3.175 km\",\"3.193 km\",\"3.210 km\",\"3.390 km\",\"3.774 km\",\"3.800 km\",\"4.000 km\",\"4.000 km\",\"4.000 km\",\"4.040 km\",\"4.200 km\",\"4.652 km\",\"4.800 km\",\"4.900 km\",\"5.000 km\",\"5.050 km\",\"5.080 km\",\"5.884 km\",\"5.943 km\",\"6.000 km\",\"6.300 km\",\"6.606 km\",\"6.950 km\",\"7.053 km\",\"7.179 km\",\"7.246 km\",\"7.313 km\",\"7.600 km\",\"7.625 km\",\"7.700 km\",\"7.820 km\",\"8.000 km\",\"8.265 km\",\"8.500 km\",\"8.954 km\",\"9.000 km\",\"9.000 km\",\"9.500 km\",\"9.500 km\",\"9.501 km\",\"10.000 km\",\"10.800 km\",\"11.000 km\",\"11.500 km\",\"11.500 km\",\"12.000 km\",\"12.132 km\",\"12.709 km\",\"12.720 km\",\"12.730 km\",\"12.800 km\",\"12.900 km\",\"13.310 km\",\"13.919 km\",\"13.989 km\",\"14.000 km\",\"14.000 km\",\"14.000 km\",\"14.084 km\",\"14.181 km\",\"14.187 km\",\"14.939 km\",\"15.000 km\",\"15.900 km\",\"16.171 km\",\"16.171 km\",\"16.627 km\",\"17.000 km\",\"17.790 km\",\"17.855 km\",\"18.000 km\",\"18.811 km\",\"19.500 km\",\"19.531 km\",\"19.587 km\",\"19.650 km\",\"19.816 km\",\"20.449 km\",\"20.449 km\",\"20.453 km\",\"20.453 km\",\"20.805 km\",\"20.900 km\",\"21.000 km\",\"21.000 km\",\"21.040 km\",\"21.418 km\",\"21.487 km\",\"21.675 km\",\"22.000 km\",\"22.175 km\",\"23.535 km\",\"23.535 km\",\"23.535 km\",\"24.488 km\",\"26.320 km\",\"26.897 km\",\"27.750 km\",\"28.500 km\",\"28.510 km\",\"28.560 km\",\"29.000 km\",\"29.000 km\",\"29.516 km\",\"30.648 km\",\"30.796 km\",\"34.300 km\",\"42.600 km\",\"42.910 km\"]],[\"year_fmt\",[\"2025\",\"2025\",\"2025\",\"2025\",\"2025\",\"2025\",\"2024\",\"2025\",\"2024\",\"2024\",\"2024\",\"2023\",\"2025\",\"2025\",\"2025\",\"2022\",\"2025\",\"2025\",\"2021\",\"2024\",\"2024\",\"2024\",\"2022\",\"2024\",\"2025\",\"2023\",\"2025\",\"2024\",\"2025\",\"2022\",\"2022\",\"2024\",\"2024\",\"2025\",\"2023\",\"2020\",\"2023\",\"2023\",\"2021\",\"2023\",\"2024\",\"2023\",\"2023\",\"2023\",\"2022\",\"2024\",\"2023\",\"2023\",\"2022\",\"2021\",\"2023\",\"2020\",\"2023\",\"2022\",\"2021\",\"2023\",\"2023\",\"2021\",\"2023\",\"2021\",\"2021\",\"2023\",\"2022\",\"2021\",\"2023\",\"2023\",\"2022\",\"2023\",\"2020\",\"2021\",\"2022\",\"2020\",\"2023\",\"2024\",\"2022\",\"2021\",\"2020\",\"2021\",\"2023\",\"2021\",\"2023\",\"2023\",\"2020\",\"2023\",\"2022\",\"2022\",\"2022\",\"2022\",\"2022\",\"2022\",\"2023\",\"2023\",\"2020\",\"2020\",\"2022\",\"2021\",\"2023\",\"2022\",\"2021\",\"2022\",\"2022\",\"2020\",\"2021\",\"2021\",\"2022\",\"2023\",\"2023\",\"2023\",\"2023\",\"2022\",\"2020\",\"2021\",\"2021\",\"2020\",\"2020\",\"2021\",\"2020\",\"2021\",\"2022\",\"2021\",\"2021\",\"2021\",\"2023\",\"2020\",\"2020\",\"2020\",\"2020\",\"2022\",\"2020\",\"2022\",\"2022\",\"2022\",\"2023\",\"2022\",\"2020\",\"2020\",\"2021\"]],[\"residual\",{\"type\":\"ndarray\",\"array\":{\"type\":\"bytes\",\"data\":\"UDXAfXrZkMCwyj+Chb6QQICqAe7TS2bAUDXAfXqpmMCgaoD79MKLwKBqgPv0EoLAgFGzdiw5gcBAB9Ni4gt2QCAGMpI1UotAELRo2+K/h0BA+Nb9Sf2DQICT9G+LFlHAAPp0YmAYa8BAF2E728lpwJjnsZeYgpxA4Cca74vofEDgJXBIQ2SHQODiD3IkhYpAUCcnL1LvdMBAIyXD2sSNQEDfyTRqD3ZA0EyWULhyjkAgB8sEARqLwAAoeRKyJihAAHwi1R0nY8CAE1cZgKJaQIDZMGIlBGVAyDkSqanGlsBgNNQ99QyXQMDVRpsy9WhAMHhL3k92lMBAs07ZJPpjQNAr8TRWqYFAAEDmeDk57j/AQWPb7gR2wIDCeCTlxHdAwEFj2+4EdsAoHBPkdeyZQBjQ9qmlaIlAgPAScKaVgMAAmA29jCMjQFBaBWDlgpVAEGZ8DxYTg8CAAestNeFnQEBQkgpwoXBAkJ4IIWbqisCgQgZ3V22FwCCrTlQ1EZTA4CZQQxDHhUBg6Ig+BzJ0wDQij+pzsaBA4O0fbCA3fEA8EOqgutqjQCAIjr8vJ4BAAFTi7luTi0AA1a6ubc9iwGDZrE0yMHzAAIzF8fMMWcCAEzjdx0xiwKB7u3S+i3XAOOiNiW1vjEAggSPxPSyOQATd+PJHB5LAaAxE6vDQjEBAP7WAq0R7wLAVRR1znIbAYEAKODCdh0AAaMV0V/dwQOjh/cw0caPA4MbxoIKGYkAQyQnxA9Z0wDA3KhYmq45AAEQNjwWPIUBAyqf+PhVuQBBDnC04GnhAgJXLfhGsgMCAIR6c9ehBQLA8FEvSHYhA4HaLvpZfksBIALaMAS2IQMCgjsostmxAAOob/T7HhMCseQR+tMmWQEC7lp/KDnVAKKZyrXtrl8CgmMq17q1ywFCG2uA8QHjA4HbxygyhaMBMAjGf4/+QwOhSLHdXg4ZAMPtw5NAEksAA+BReYYgUQGA/pBlT0YFAYD+kGVPRgUCgY2NsDzWSwAB0b+xhOipAcINKUKEZiEA488ajjnCEwGAnU8tWmo9AAINVJleySkBQewVZrTuBwKAF8s5UWmnAWPAUivE0jsBQpwB4u66AQPDMtMFGiYrAQDc5sVAEYUBANzmxUARhQNDOLYOylonA0M4tg7KWicBYbQhzw0iQwFAHHsj25ohAgIETA11TTMD0Y+cXZd2RQKCpE2WThWDAgF2G8gV6ccCA681yg9BGQGCs+GO3XnHA4PkSzijAYkA4jBxjh6CGwAA0hDHm00hAADSEMebTSEAANIQx5tNIQIBY5lzPfnNAAGa5QHLuQ0CARU3LnXtKQMD3+KztdnlAgLiFU+3PW0BgDpOaO652QMAzvcOX8WJA4GGORbA6lMDgYY5FsDqUwCguHFAwoYXAUIdIIr93h8CIhFccmEiIwEDQwbYIfoVAoOxBmuZ5gsD4ArcwPQOLwA==\"},\"shape\":[137],\"dtype\":\"float64\",\"order\":\"little\"}],[\"z\",{\"type\":\"ndarray\",\"array\":{\"type\":\"bytes\",\"data\":\"pd/O/vF08L/Yx+UfutjyP9TxvOO827q/0+h1xLqq+L/oUQrYiKzqv+ysT3JSfuC/O/eOBfG09r+WWHq5VSvcP8dVAgE/7e4/iWRPPEfO6D9KmgoOlFziP0VPrCeUEK8/h+7h5/B4wr9huut+ZRnBv1+cp60XNv8/Kbayc38X8j9hRwkAIRXrP1FcoFTEXu4/qNIvmrjl4r/F1DiAmI/xP3g0D/GvDrg/ys82wpQk8j/aE1yamYnWvyJfYlHAf96/jOMShGhAtL/KpentMEnVP1jj46IyC9A/lZh8MKh9B8ChAdVbU3n5P5k6Pc6ezeo/zfZ2UogN6781uu0xH1nNv7DRGS14vtw/jOMShGhAtD/XlylvUl/Yv2Wzw3+75tw/15cpb1Jf2L84gYaP3vgFQGq+JpM9wfI/MWKfNuIP5b/9MlTFeMTev9wQu5mtdQJAqvfVRL8G6b/LkYIPrrHdP3VkrAxyLO0/CWh5yhoD/7906G+AmcXsvyCS9yEmR/2/ja1wl+dF9j+vIZ5b6VDivyD+Z3yu6QtACQjFl6yU4j+D0NDuEHkQQH6r8HrPD/M/EmkcmlF19D+IGntrTCixv9ItQ+7VGOG/j3KKRL1zzb9FT6wnlBCvvxllKsmwYOO/u3FDiVIi9T9jm6OwtLD6P+8sZCKpfuW/8VnQG/tu9T92GM8tWF3gv3Qn4LotqO6/j5WKPVJS9z93xhcwJtniP6ryZ0x2AxPAzIeUvzRewz/9VB/U6iDPP7/qNmaBrPg/DqiTOModxz94NA/xrw64v4bHHZFFuPA/PD9rHyCn7L/wQ/N7LTLGv5E3Q8QqvfE/ed4YRciU+r8MEEmsGsnxP0mcYkMvxeA/4Fpyiyi9678LIqsguUIDQKScuhP5GuY/9xzKTWDn8L87Viwg4QbSP1tM23tgVMc/niVa3X1L2T/9Bmn+ICXjv1pYU85msfY//jo5OkME+r9oq9o5B2TGP/QxkgUmeek/9DGSBSZ56T/VW+PzNeflv0TQs7j6uay/sQUKtifb9T/2huXg3kq9vzi2zMHOn/c/av8spW2V5T8AAAAAAAAAABJckZddZ+O//l1Zr2v3+L+7mS+BKsrnP3G0nJUSP9W/BQrTeRo72D8FCtN5GjvYP3Ymx6TgsvG/dibHpOCy8b+IACGG6ILhv5lk4HZFUfM/4xMmupHkxL/l1D/tUd76P+QZvcG0mt6/XKxhQdvc57/ddMKVmVJ5v8KiyLJ9w+e/DetFkti4wz/oweaVJqPIvwAAAAAAAAAAAAAAAAAAAAAAAAAAAAAAAJ6zjDOR3OQ/jM5Nb9RBxb96jche3TbCv/x8i6OKBuA/hs2yksS3or+7C231XFDwP4bNspLEt6I/qzf4eF2F6r+rN/h4XYXqv6oAIT7dFMS/XhG1MqkC8L80yXMwDRrQv2UO5jJnJvA/uuOcTxX69L8wNMNNmHT2vw==\"},\"shape\":[137],\"dtype\":\"float64\",\"order\":\"little\"}],[\"tag\",[\"normal\",\"normal\",\"normal\",\"chollo\",\"normal\",\"normal\",\"normal\",\"normal\",\"normal\",\"normal\",\"normal\",\"normal\",\"normal\",\"normal\",\"caro\",\"normal\",\"normal\",\"normal\",\"normal\",\"normal\",\"normal\",\"normal\",\"normal\",\"normal\",\"normal\",\"normal\",\"normal\",\"chollo\",\"caro\",\"normal\",\"normal\",\"normal\",\"normal\",\"normal\",\"normal\",\"normal\",\"normal\",\"caro\",\"normal\",\"normal\",\"normal\",\"caro\",\"normal\",\"normal\",\"normal\",\"normal\",\"normal\",\"chollo\",\"normal\",\"normal\",\"caro\",\"normal\",\"caro\",\"normal\",\"normal\",\"normal\",\"normal\",\"normal\",\"normal\",\"normal\",\"normal\",\"normal\",\"normal\",\"normal\",\"normal\",\"normal\",\"normal\",\"normal\",\"chollo\",\"normal\",\"normal\",\"normal\",\"normal\",\"normal\",\"normal\",\"normal\",\"normal\",\"normal\",\"chollo\",\"normal\",\"normal\",\"normal\",\"caro\",\"normal\",\"normal\",\"normal\",\"normal\",\"normal\",\"normal\",\"normal\",\"chollo\",\"normal\",\"normal\",\"normal\",\"normal\",\"normal\",\"normal\",\"normal\",\"normal\",\"normal\",\"normal\",\"normal\",\"normal\",\"normal\",\"normal\",\"normal\",\"normal\",\"normal\",\"normal\",\"normal\",\"normal\",\"normal\",\"caro\",\"normal\",\"normal\",\"normal\",\"normal\",\"normal\",\"normal\",\"normal\",\"normal\",\"normal\",\"normal\",\"normal\",\"normal\",\"normal\",\"normal\",\"normal\",\"normal\",\"normal\",\"normal\",\"normal\",\"normal\",\"normal\",\"normal\",\"normal\",\"normal\"]],[\"border_color\",{\"type\":\"ndarray\",\"array\":[\"#003366\",\"#003366\",\"#003366\",\"#2ECC71\",\"#003366\",\"#003366\",\"#003366\",\"#003366\",\"#003366\",\"#003366\",\"#003366\",\"#003366\",\"#003366\",\"#003366\",\"#E74C3C\",\"#003366\",\"#003366\",\"#003366\",\"#003366\",\"#003366\",\"#003366\",\"#003366\",\"#003366\",\"#003366\",\"#003366\",\"#003366\",\"#003366\",\"#2ECC71\",\"#E74C3C\",\"#003366\",\"#003366\",\"#003366\",\"#003366\",\"#003366\",\"#003366\",\"#003366\",\"#003366\",\"#E74C3C\",\"#003366\",\"#003366\",\"#003366\",\"#E74C3C\",\"#003366\",\"#003366\",\"#003366\",\"#003366\",\"#003366\",\"#2ECC71\",\"#003366\",\"#003366\",\"#E74C3C\",\"#003366\",\"#E74C3C\",\"#003366\",\"#003366\",\"#003366\",\"#003366\",\"#003366\",\"#003366\",\"#003366\",\"#003366\",\"#003366\",\"#003366\",\"#003366\",\"#003366\",\"#003366\",\"#003366\",\"#003366\",\"#2ECC71\",\"#003366\",\"#003366\",\"#003366\",\"#003366\",\"#003366\",\"#003366\",\"#003366\",\"#003366\",\"#003366\",\"#2ECC71\",\"#003366\",\"#003366\",\"#003366\",\"#E74C3C\",\"#003366\",\"#003366\",\"#003366\",\"#003366\",\"#003366\",\"#003366\",\"#003366\",\"#2ECC71\",\"#003366\",\"#003366\",\"#003366\",\"#003366\",\"#003366\",\"#003366\",\"#003366\",\"#003366\",\"#003366\",\"#003366\",\"#003366\",\"#003366\",\"#003366\",\"#003366\",\"#003366\",\"#003366\",\"#003366\",\"#003366\",\"#003366\",\"#003366\",\"#003366\",\"#E74C3C\",\"#003366\",\"#003366\",\"#003366\",\"#003366\",\"#003366\",\"#003366\",\"#003366\",\"#003366\",\"#003366\",\"#003366\",\"#003366\",\"#003366\",\"#003366\",\"#003366\",\"#003366\",\"#003366\",\"#003366\",\"#003366\",\"#003366\",\"#003366\",\"#003366\",\"#003366\",\"#003366\",\"#003366\"],\"shape\":[137],\"dtype\":\"object\",\"order\":\"little\"}]]}}}],[\"filt_y\",{\"type\":\"object\",\"name\":\"BooleanFilter\",\"id\":\"p1043\",\"attributes\":{\"booleans\":[true,true,true,true,true,true,true,true,true,true,true,true,true,true,true,true,true,true,true,true,true,true,true,true,true,true,true,true,true,true,true,true,true,true,true,true,true,true,true,true,true,true,true,true,true,true,true,true,true,true,true,true,true,true,true,true,true,true,true,true,true,true,true,true,true,true,true,true,true,true,true,true,true,true,true,true,true,true,true,true,true,true,true,true,true,true,true,true,true,true,true,true,true,true,true,true,true,true,true,true,true,true,true,true,true,true,true,true,true,true,true,true,true,true,true,true,true,true,true,true,true,true,true,true,true,true,true,true,true,true,true,true,true,true,true,true,true]}}],[\"r_n\",null],[\"r_y_norm\",{\"type\":\"object\",\"name\":\"GlyphRenderer\",\"id\":\"p1062\",\"attributes\":{\"data_source\":{\"id\":\"p1001\"},\"view\":{\"type\":\"object\",\"name\":\"CDSView\",\"id\":\"p1047\",\"attributes\":{\"filter\":{\"type\":\"object\",\"name\":\"IntersectionFilter\",\"id\":\"p1048\",\"attributes\":{\"operands\":[{\"id\":\"p1043\"},{\"type\":\"object\",\"name\":\"BooleanFilter\",\"id\":\"p1044\",\"attributes\":{\"booleans\":[true,true,true,false,true,true,true,true,true,true,true,true,true,true,false,true,true,true,true,true,true,true,true,true,true,true,true,false,false,true,true,true,true,true,true,true,true,false,true,true,true,false,true,true,true,true,true,false,true,true,false,true,false,true,true,true,true,true,true,true,true,true,true,true,true,true,true,true,false,true,true,true,true,true,true,true,true,true,false,true,true,true,false,true,true,true,true,true,true,true,false,true,true,true,true,true,true,true,true,true,true,true,true,true,true,true,true,true,true,true,true,true,false,true,true,true,true,true,true,true,true,true,true,true,true,true,true,true,true,true,true,true,true,true,true,true,true]}}]}}}},\"glyph\":{\"type\":\"object\",\"name\":\"Circle\",\"id\":\"p1059\",\"attributes\":{\"x\":{\"type\":\"field\",\"field\":\"km\"},\"y\":{\"type\":\"field\",\"field\":\"precio\"},\"size\":{\"type\":\"value\",\"value\":10},\"line_color\":{\"type\":\"value\",\"value\":\"#003366\"},\"line_alpha\":{\"type\":\"value\",\"value\":0.95},\"line_width\":{\"type\":\"value\",\"value\":1.5},\"fill_color\":{\"type\":\"field\",\"field\":\"year\",\"transform\":{\"type\":\"object\",\"name\":\"LinearColorMapper\",\"id\":\"p1042\",\"attributes\":{\"palette\":[\"#f7fbff\",\"#f6faff\",\"#f5fafe\",\"#f5f9fe\",\"#f4f9fe\",\"#f3f8fe\",\"#f2f8fd\",\"#f2f7fd\",\"#f1f7fd\",\"#f0f6fd\",\"#eff6fc\",\"#eef5fc\",\"#eef5fc\",\"#edf4fc\",\"#ecf4fb\",\"#ebf3fb\",\"#eaf3fb\",\"#eaf2fb\",\"#e9f2fa\",\"#e8f1fa\",\"#e7f1fa\",\"#e7f0fa\",\"#e6f0f9\",\"#e5eff9\",\"#e4eff9\",\"#e3eef9\",\"#e3eef8\",\"#e2edf8\",\"#e1edf8\",\"#e0ecf8\",\"#dfecf7\",\"#dfebf7\",\"#deebf7\",\"#ddeaf7\",\"#dceaf6\",\"#dce9f6\",\"#dbe9f6\",\"#dae8f6\",\"#d9e8f5\",\"#d9e7f5\",\"#d8e7f5\",\"#d7e6f5\",\"#d6e6f4\",\"#d6e5f4\",\"#d5e5f4\",\"#d4e4f4\",\"#d3e4f3\",\"#d3e3f3\",\"#d2e3f3\",\"#d1e2f3\",\"#d0e2f2\",\"#d0e1f2\",\"#cfe1f2\",\"#cee0f2\",\"#cde0f1\",\"#cddff1\",\"#ccdff1\",\"#cbdef1\",\"#cadef0\",\"#caddf0\",\"#c9ddf0\",\"#c8dcf0\",\"#c7dcef\",\"#c7dbef\",\"#c6dbef\",\"#c4daee\",\"#c3daee\",\"#c2d9ee\",\"#c1d9ed\",\"#bfd8ed\",\"#bed8ec\",\"#bdd7ec\",\"#bcd7eb\",\"#bad6eb\",\"#b9d6ea\",\"#b8d5ea\",\"#b7d4ea\",\"#b5d4e9\",\"#b4d3e9\",\"#b3d3e8\",\"#b2d2e8\",\"#b0d2e7\",\"#afd1e7\",\"#aed1e7\",\"#add0e6\",\"#abd0e6\",\"#aacfe5\",\"#a9cfe5\",\"#a8cee4\",\"#a6cee4\",\"#a5cde3\",\"#a4cce3\",\"#a3cce3\",\"#a1cbe2\",\"#a0cbe2\",\"#9fcae1\",\"#9dcae1\",\"#9cc9e1\",\"#9ac8e0\",\"#99c7e0\",\"#97c6df\",\"#95c5df\",\"#94c4df\",\"#92c4de\",\"#91c3de\",\"#8fc2de\",\"#8dc1dd\",\"#8cc0dd\",\"#8abfdd\",\"#89bedc\",\"#87bddc\",\"#85bcdc\",\"#84bcdb\",\"#82bbdb\",\"#81badb\",\"#7fb9da\",\"#7db8da\",\"#7cb7da\",\"#7ab6d9\",\"#79b5d9\",\"#77b5d9\",\"#75b4d8\",\"#74b3d8\",\"#72b2d8\",\"#71b1d7\",\"#6fb0d7\",\"#6dafd7\",\"#6caed6\",\"#6aaed6\",\"#69add5\",\"#68acd5\",\"#66abd4\",\"#65aad4\",\"#64a9d3\",\"#63a8d3\",\"#61a7d2\",\"#60a7d2\",\"#5fa6d1\",\"#5da5d1\",\"#5ca4d0\",\"#5ba3d0\",\"#5aa2cf\",\"#58a1cf\",\"#57a0ce\",\"#56a0ce\",\"#549fcd\",\"#539ecd\",\"#529dcc\",\"#519ccc\",\"#4f9bcb\",\"#4e9acb\",\"#4d99ca\",\"#4b98ca\",\"#4a98c9\",\"#4997c9\",\"#4896c8\",\"#4695c8\",\"#4594c7\",\"#4493c7\",\"#4292c6\",\"#4191c6\",\"#4090c5\",\"#3f8fc5\",\"#3e8ec4\",\"#3d8dc4\",\"#3c8cc3\",\"#3b8bc2\",\"#3a8ac2\",\"#3989c1\",\"#3888c1\",\"#3787c0\",\"#3686c0\",\"#3585bf\",\"#3484bf\",\"#3383be\",\"#3282be\",\"#3181bd\",\"#3080bd\",\"#2f7fbc\",\"#2e7ebc\",\"#2d7dbb\",\"#2c7cba\",\"#2b7bba\",\"#2a7ab9\",\"#2979b9\",\"#2777b8\",\"#2676b8\",\"#2575b7\",\"#2474b7\",\"#2373b6\",\"#2272b6\",\"#2171b5\",\"#2070b4\",\"#206fb4\",\"#1f6eb3\",\"#1e6db2\",\"#1d6cb1\",\"#1c6bb0\",\"#1c6ab0\",\"#1b69af\",\"#1a68ae\",\"#1967ad\",\"#1966ad\",\"#1865ac\",\"#1764ab\",\"#1663aa\",\"#1562a9\",\"#1561a9\",\"#1460a8\",\"#135fa7\",\"#125ea6\",\"#125da6\",\"#115ca5\",\"#105ba4\",\"#0f5aa3\",\"#0e59a2\",\"#0e58a2\",\"#0d57a1\",\"#0c56a0\",\"#0b559f\",\"#0a549e\",\"#0a539e\",\"#09529d\",\"#08519c\",\"#08509b\",\"#084f99\",\"#084e98\",\"#084d96\",\"#084c95\",\"#084b93\",\"#084a91\",\"#084990\",\"#08488e\",\"#08478d\",\"#08468b\",\"#08458a\",\"#084488\",\"#084387\",\"#084285\",\"#084184\",\"#084082\",\"#083e81\",\"#083d7f\",\"#083c7d\",\"#083b7c\",\"#083a7a\",\"#083979\",\"#083877\",\"#083776\",\"#083674\",\"#083573\",\"#083471\",\"#083370\",\"#08326e\",\"#08316d\",\"#08306b\"],\"low\":2020.0,\"high\":2025.0}}},\"fill_alpha\":{\"type\":\"value\",\"value\":0.95},\"hatch_color\":{\"type\":\"field\",\"field\":\"year\",\"transform\":{\"id\":\"p1042\"}},\"hatch_alpha\":{\"type\":\"value\",\"value\":0.95}}},\"nonselection_glyph\":{\"type\":\"object\",\"name\":\"Circle\",\"id\":\"p1060\",\"attributes\":{\"x\":{\"type\":\"field\",\"field\":\"km\"},\"y\":{\"type\":\"field\",\"field\":\"precio\"},\"size\":{\"type\":\"value\",\"value\":10},\"line_color\":{\"type\":\"value\",\"value\":\"#003366\"},\"line_alpha\":{\"type\":\"value\",\"value\":0.1},\"line_width\":{\"type\":\"value\",\"value\":1.5},\"fill_color\":{\"type\":\"field\",\"field\":\"year\",\"transform\":{\"id\":\"p1042\"}},\"fill_alpha\":{\"type\":\"value\",\"value\":0.1},\"hatch_color\":{\"type\":\"field\",\"field\":\"year\",\"transform\":{\"id\":\"p1042\"}},\"hatch_alpha\":{\"type\":\"value\",\"value\":0.1}}},\"muted_glyph\":{\"type\":\"object\",\"name\":\"Circle\",\"id\":\"p1061\",\"attributes\":{\"x\":{\"type\":\"field\",\"field\":\"km\"},\"y\":{\"type\":\"field\",\"field\":\"precio\"},\"size\":{\"type\":\"value\",\"value\":10},\"line_color\":{\"type\":\"value\",\"value\":\"#003366\"},\"line_alpha\":{\"type\":\"value\",\"value\":0.2},\"line_width\":{\"type\":\"value\",\"value\":1.5},\"fill_color\":{\"type\":\"field\",\"field\":\"year\",\"transform\":{\"id\":\"p1042\"}},\"fill_alpha\":{\"type\":\"value\",\"value\":0.2},\"hatch_color\":{\"type\":\"field\",\"field\":\"year\",\"transform\":{\"id\":\"p1042\"}},\"hatch_alpha\":{\"type\":\"value\",\"value\":0.2}}}}}],[\"r_y_chol\",{\"type\":\"object\",\"name\":\"GlyphRenderer\",\"id\":\"p1071\",\"attributes\":{\"data_source\":{\"id\":\"p1001\"},\"view\":{\"type\":\"object\",\"name\":\"CDSView\",\"id\":\"p1050\",\"attributes\":{\"filter\":{\"type\":\"object\",\"name\":\"IntersectionFilter\",\"id\":\"p1051\",\"attributes\":{\"operands\":[{\"id\":\"p1043\"},{\"type\":\"object\",\"name\":\"BooleanFilter\",\"id\":\"p1045\",\"attributes\":{\"booleans\":[false,false,false,true,false,false,false,false,false,false,false,false,false,false,false,false,false,false,false,false,false,false,false,false,false,false,false,true,false,false,false,false,false,false,false,false,false,false,false,false,false,false,false,false,false,false,false,true,false,false,false,false,false,false,false,false,false,false,false,false,false,false,false,false,false,false,false,false,true,false,false,false,false,false,false,false,false,false,true,false,false,false,false,false,false,false,false,false,false,false,true,false,false,false,false,false,false,false,false,false,false,false,false,false,false,false,false,false,false,false,false,false,false,false,false,false,false,false,false,false,false,false,false,false,false,false,false,false,false,false,false,false,false,false,false,false,false]}}]}}}},\"glyph\":{\"type\":\"object\",\"name\":\"Circle\",\"id\":\"p1068\",\"attributes\":{\"x\":{\"type\":\"field\",\"field\":\"km\"},\"y\":{\"type\":\"field\",\"field\":\"precio\"},\"size\":{\"type\":\"value\",\"value\":10},\"line_color\":{\"type\":\"value\",\"value\":\"#006400\"},\"line_alpha\":{\"type\":\"value\",\"value\":0.95},\"line_width\":{\"type\":\"value\",\"value\":1.8},\"fill_color\":{\"type\":\"value\",\"value\":\"#2ECC71\"},\"fill_alpha\":{\"type\":\"value\",\"value\":0.95},\"hatch_alpha\":{\"type\":\"value\",\"value\":0.95}}},\"nonselection_glyph\":{\"type\":\"object\",\"name\":\"Circle\",\"id\":\"p1069\",\"attributes\":{\"x\":{\"type\":\"field\",\"field\":\"km\"},\"y\":{\"type\":\"field\",\"field\":\"precio\"},\"size\":{\"type\":\"value\",\"value\":10},\"line_color\":{\"type\":\"value\",\"value\":\"#006400\"},\"line_alpha\":{\"type\":\"value\",\"value\":0.1},\"line_width\":{\"type\":\"value\",\"value\":1.8},\"fill_color\":{\"type\":\"value\",\"value\":\"#2ECC71\"},\"fill_alpha\":{\"type\":\"value\",\"value\":0.1},\"hatch_alpha\":{\"type\":\"value\",\"value\":0.1}}},\"muted_glyph\":{\"type\":\"object\",\"name\":\"Circle\",\"id\":\"p1070\",\"attributes\":{\"x\":{\"type\":\"field\",\"field\":\"km\"},\"y\":{\"type\":\"field\",\"field\":\"precio\"},\"size\":{\"type\":\"value\",\"value\":10},\"line_color\":{\"type\":\"value\",\"value\":\"#006400\"},\"line_alpha\":{\"type\":\"value\",\"value\":0.2},\"line_width\":{\"type\":\"value\",\"value\":1.8},\"fill_color\":{\"type\":\"value\",\"value\":\"#2ECC71\"},\"fill_alpha\":{\"type\":\"value\",\"value\":0.2},\"hatch_alpha\":{\"type\":\"value\",\"value\":0.2}}}}}],[\"r_y_caro\",{\"type\":\"object\",\"name\":\"GlyphRenderer\",\"id\":\"p1082\",\"attributes\":{\"data_source\":{\"id\":\"p1001\"},\"view\":{\"type\":\"object\",\"name\":\"CDSView\",\"id\":\"p1053\",\"attributes\":{\"filter\":{\"type\":\"object\",\"name\":\"IntersectionFilter\",\"id\":\"p1054\",\"attributes\":{\"operands\":[{\"id\":\"p1043\"},{\"type\":\"object\",\"name\":\"BooleanFilter\",\"id\":\"p1046\",\"attributes\":{\"booleans\":[false,false,false,false,false,false,false,false,false,false,false,false,false,false,true,false,false,false,false,false,false,false,false,false,false,false,false,false,true,false,false,false,false,false,false,false,false,true,false,false,false,true,false,false,false,false,false,false,false,false,true,false,true,false,false,false,false,false,false,false,false,false,false,false,false,false,false,false,false,false,false,false,false,false,false,false,false,false,false,false,false,false,true,false,false,false,false,false,false,false,false,false,false,false,false,false,false,false,false,false,false,false,false,false,false,false,false,false,false,false,false,false,true,false,false,false,false,false,false,false,false,false,false,false,false,false,false,false,false,false,false,false,false,false,false,false,false]}}]}}}},\"glyph\":{\"type\":\"object\",\"name\":\"Circle\",\"id\":\"p1079\",\"attributes\":{\"x\":{\"type\":\"field\",\"field\":\"km\"},\"y\":{\"type\":\"field\",\"field\":\"precio\"},\"size\":{\"type\":\"value\",\"value\":10},\"line_color\":{\"type\":\"value\",\"value\":\"#800000\"},\"line_alpha\":{\"type\":\"value\",\"value\":0.95},\"line_width\":{\"type\":\"value\",\"value\":1.8},\"fill_color\":{\"type\":\"value\",\"value\":\"#E74C3C\"},\"fill_alpha\":{\"type\":\"value\",\"value\":0.95},\"hatch_alpha\":{\"type\":\"value\",\"value\":0.95}}},\"nonselection_glyph\":{\"type\":\"object\",\"name\":\"Circle\",\"id\":\"p1080\",\"attributes\":{\"x\":{\"type\":\"field\",\"field\":\"km\"},\"y\":{\"type\":\"field\",\"field\":\"precio\"},\"size\":{\"type\":\"value\",\"value\":10},\"line_color\":{\"type\":\"value\",\"value\":\"#800000\"},\"line_alpha\":{\"type\":\"value\",\"value\":0.1},\"line_width\":{\"type\":\"value\",\"value\":1.8},\"fill_color\":{\"type\":\"value\",\"value\":\"#E74C3C\"},\"fill_alpha\":{\"type\":\"value\",\"value\":0.1},\"hatch_alpha\":{\"type\":\"value\",\"value\":0.1}}},\"muted_glyph\":{\"type\":\"object\",\"name\":\"Circle\",\"id\":\"p1081\",\"attributes\":{\"x\":{\"type\":\"field\",\"field\":\"km\"},\"y\":{\"type\":\"field\",\"field\":\"precio\"},\"size\":{\"type\":\"value\",\"value\":10},\"line_color\":{\"type\":\"value\",\"value\":\"#800000\"},\"line_alpha\":{\"type\":\"value\",\"value\":0.2},\"line_width\":{\"type\":\"value\",\"value\":1.8},\"fill_color\":{\"type\":\"value\",\"value\":\"#E74C3C\"},\"fill_alpha\":{\"type\":\"value\",\"value\":0.2},\"hatch_alpha\":{\"type\":\"value\",\"value\":0.2}}}}}]]},\"code\":\"\\nconst val = sel.value;\\nif (!src_y || !src_y.data || !src_y.data['year']) return;\\nconst years = src_y.data['year'];\\nconst n = years.length;\\nlet arr = new Array(n).fill(true);\\nif (val === 'Todos') {\\n  arr = Array(n).fill(true);\\n  if (r_y_norm) r_y_norm.visible = true;\\n  if (r_y_chol) r_y_chol.visible = true;\\n  if (r_y_caro) r_y_caro.visible = true;\\n  if (r_n) r_n.visible = true;\\n} else if (val === 'Sin a\\u00f1o' || val === 'Sin a\\u00f1o') {\\n  arr = Array(n).fill(false);\\n  if (r_y_norm) r_y_norm.visible = false;\\n  if (r_y_chol) r_y_chol.visible = false;\\n  if (r_y_caro) r_y_caro.visible = false;\\n  if (r_n) r_n.visible = true;\\n} else {\\n  const y = parseInt(val);\\n  for (let i=0;i<n;i++) arr[i] = (parseInt(years[i]) === y);\\n  if (r_y_norm) r_y_norm.visible = true;\\n  if (r_y_chol) r_y_chol.visible = true;\\n  if (r_y_caro) r_y_caro.visible = true;\\n  if (r_n) r_n.visible = false;\\n}\\nif (filt_y) {\\n  filt_y.booleans = arr;\\n  filt_y.change.emit();\\n}\\n\"}}]]]},\"title\":\"Filtrar por a\\u00f1o\",\"options\":[\"Todos\",\"2020\",\"2021\",\"2022\",\"2023\",\"2024\",\"2025\"],\"value\":\"Todos\"}},{\"type\":\"object\",\"name\":\"Figure\",\"id\":\"p1007\",\"attributes\":{\"width\":900,\"x_range\":{\"type\":\"object\",\"name\":\"DataRange1d\",\"id\":\"p1008\"},\"y_range\":{\"type\":\"object\",\"name\":\"DataRange1d\",\"id\":\"p1009\"},\"x_scale\":{\"type\":\"object\",\"name\":\"LinearScale\",\"id\":\"p1016\"},\"y_scale\":{\"type\":\"object\",\"name\":\"LinearScale\",\"id\":\"p1017\"},\"title\":null,\"renderers\":[{\"id\":\"p1062\"},{\"id\":\"p1071\"},{\"id\":\"p1082\"},{\"type\":\"object\",\"name\":\"GlyphRenderer\",\"id\":\"p1101\",\"attributes\":{\"data_source\":{\"type\":\"object\",\"name\":\"ColumnDataSource\",\"id\":\"p1095\",\"attributes\":{\"selected\":{\"type\":\"object\",\"name\":\"Selection\",\"id\":\"p1096\",\"attributes\":{\"indices\":[],\"line_indices\":[]}},\"selection_policy\":{\"type\":\"object\",\"name\":\"UnionRenderers\",\"id\":\"p1097\"},\"data\":{\"type\":\"map\",\"entries\":[[\"x\",{\"type\":\"ndarray\",\"array\":{\"type\":\"bytes\",\"data\":\"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\"},\"shape\":[200],\"dtype\":\"float64\",\"order\":\"little\"}],[\"y\",{\"type\":\"ndarray\",\"array\":{\"type\":\"bytes\",\"data\":\"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\"},\"shape\":[200],\"dtype\":\"float64\",\"order\":\"little\"}]]}}},\"view\":{\"type\":\"object\",\"name\":\"CDSView\",\"id\":\"p1102\",\"attributes\":{\"filter\":{\"type\":\"object\",\"name\":\"AllIndices\",\"id\":\"p1103\"}}},\"glyph\":{\"type\":\"object\",\"name\":\"Line\",\"id\":\"p1098\",\"attributes\":{\"x\":{\"type\":\"field\",\"field\":\"x\"},\"y\":{\"type\":\"field\",\"field\":\"y\"},\"line_color\":\"#1E90FF\",\"line_width\":3}},\"nonselection_glyph\":{\"type\":\"object\",\"name\":\"Line\",\"id\":\"p1099\",\"attributes\":{\"x\":{\"type\":\"field\",\"field\":\"x\"},\"y\":{\"type\":\"field\",\"field\":\"y\"},\"line_color\":\"#1E90FF\",\"line_alpha\":0.1,\"line_width\":3}},\"muted_glyph\":{\"type\":\"object\",\"name\":\"Line\",\"id\":\"p1100\",\"attributes\":{\"x\":{\"type\":\"field\",\"field\":\"x\"},\"y\":{\"type\":\"field\",\"field\":\"y\"},\"line_color\":\"#1E90FF\",\"line_alpha\":0.2,\"line_width\":3}}}}],\"toolbar\":{\"type\":\"object\",\"name\":\"Toolbar\",\"id\":\"p1015\",\"attributes\":{\"tools\":[{\"type\":\"object\",\"name\":\"PanTool\",\"id\":\"p1028\"},{\"type\":\"object\",\"name\":\"WheelZoomTool\",\"id\":\"p1029\",\"attributes\":{\"renderers\":\"auto\"}},{\"type\":\"object\",\"name\":\"BoxZoomTool\",\"id\":\"p1030\",\"attributes\":{\"overlay\":{\"type\":\"object\",\"name\":\"BoxAnnotation\",\"id\":\"p1031\",\"attributes\":{\"syncable\":false,\"level\":\"overlay\",\"visible\":false,\"left\":{\"type\":\"number\",\"value\":\"nan\"},\"right\":{\"type\":\"number\",\"value\":\"nan\"},\"top\":{\"type\":\"number\",\"value\":\"nan\"},\"bottom\":{\"type\":\"number\",\"value\":\"nan\"},\"left_units\":\"canvas\",\"right_units\":\"canvas\",\"top_units\":\"canvas\",\"bottom_units\":\"canvas\",\"line_color\":\"black\",\"line_alpha\":1.0,\"line_width\":2,\"line_dash\":[4,4],\"fill_color\":\"lightgrey\",\"fill_alpha\":0.5}}}},{\"type\":\"object\",\"name\":\"SaveTool\",\"id\":\"p1036\"},{\"type\":\"object\",\"name\":\"ResetTool\",\"id\":\"p1037\"},{\"type\":\"object\",\"name\":\"HelpTool\",\"id\":\"p1038\"},{\"type\":\"object\",\"name\":\"HoverTool\",\"id\":\"p1104\",\"attributes\":{\"renderers\":[{\"id\":\"p1062\"},{\"id\":\"p1071\"},{\"id\":\"p1082\"}],\"tooltips\":[[\"Precio\",\"@precio_fmt\"],[\"Kil\\u00f3metros\",\"@km_fmt\"],[\"A\\u00f1o\",\"@year_fmt\"],[\"URL\",\"@url\"]]}},{\"type\":\"object\",\"name\":\"TapTool\",\"id\":\"p1105\",\"attributes\":{\"renderers\":\"auto\",\"callback\":{\"type\":\"object\",\"name\":\"OpenURL\",\"id\":\"p1106\",\"attributes\":{\"url\":\"@url\"}}}}]}},\"toolbar_location\":\"above\",\"left\":[{\"type\":\"object\",\"name\":\"LinearAxis\",\"id\":\"p1023\",\"attributes\":{\"ticker\":{\"type\":\"object\",\"name\":\"BasicTicker\",\"id\":\"p1024\",\"attributes\":{\"mantissas\":[1,2,5]}},\"formatter\":{\"type\":\"object\",\"name\":\"NumeralTickFormatter\",\"id\":\"p1041\"},\"axis_label\":\"Precio (\\u20ac)\",\"axis_label_text_color\":\"#000000\",\"major_label_policy\":{\"type\":\"object\",\"name\":\"AllLabels\",\"id\":\"p1026\"},\"major_label_text_color\":\"#000000\",\"axis_line_color\":\"#000000\",\"major_tick_line_color\":\"#000000\",\"minor_tick_line_color\":\"#000000\"}}],\"right\":[{\"type\":\"object\",\"name\":\"ColorBar\",\"id\":\"p1086\",\"attributes\":{\"title\":\"A\\u00f1o\",\"major_label_policy\":{\"type\":\"object\",\"name\":\"NoOverlap\",\"id\":\"p1087\"},\"label_standoff\":8,\"color_mapper\":{\"id\":\"p1042\"}}}],\"above\":[{\"type\":\"object\",\"name\":\"Title\",\"id\":\"p1039\",\"attributes\":{\"text\":\"Relaci\\u00f3n Precio vs Kil\\u00f3metros\",\"text_color\":\"#000000\",\"text_font_size\":\"16pt\"}},{\"type\":\"object\",\"name\":\"Title\",\"id\":\"p1040\",\"attributes\":{\"text\":\"f_900_r\",\"text_color\":\"#00BFFF\",\"text_font_size\":\"20pt\"}}],\"below\":[{\"type\":\"object\",\"name\":\"LinearAxis\",\"id\":\"p1018\",\"attributes\":{\"ticker\":{\"type\":\"object\",\"name\":\"BasicTicker\",\"id\":\"p1019\",\"attributes\":{\"mantissas\":[1,2,5]}},\"formatter\":{\"type\":\"object\",\"name\":\"BasicTickFormatter\",\"id\":\"p1020\"},\"axis_label\":\"Kil\\u00f3metros Recorridos (km)\",\"axis_label_text_color\":\"#000000\",\"major_label_policy\":{\"type\":\"object\",\"name\":\"AllLabels\",\"id\":\"p1021\"},\"major_label_text_color\":\"#000000\",\"axis_line_color\":\"#000000\",\"major_tick_line_color\":\"#000000\",\"minor_tick_line_color\":\"#000000\"}}],\"center\":[{\"type\":\"object\",\"name\":\"Grid\",\"id\":\"p1022\",\"attributes\":{\"axis\":{\"id\":\"p1018\"},\"grid_line_color\":\"#DDDDDD\",\"grid_line_alpha\":0.4}},{\"type\":\"object\",\"name\":\"Grid\",\"id\":\"p1027\",\"attributes\":{\"dimension\":1,\"axis\":{\"id\":\"p1023\"},\"grid_line_color\":\"#DDDDDD\",\"grid_line_alpha\":0.4}},{\"type\":\"object\",\"name\":\"Legend\",\"id\":\"p1074\",\"attributes\":{\"border_line_color\":\"#000000\",\"border_line_alpha\":0.3,\"background_fill_color\":\"white\",\"background_fill_alpha\":0.8,\"label_text_color\":\"#000000\",\"items\":[{\"type\":\"object\",\"name\":\"LegendItem\",\"id\":\"p1075\",\"attributes\":{\"label\":{\"type\":\"value\",\"value\":\"Chollo\"},\"renderers\":[{\"id\":\"p1071\"}]}},{\"type\":\"object\",\"name\":\"LegendItem\",\"id\":\"p1085\",\"attributes\":{\"label\":{\"type\":\"value\",\"value\":\"Timo\"},\"renderers\":[{\"id\":\"p1082\"}]}}]}},{\"type\":\"object\",\"name\":\"Band\",\"id\":\"p1091\",\"attributes\":{\"level\":\"underlay\",\"source\":{\"type\":\"object\",\"name\":\"ColumnDataSource\",\"id\":\"p1088\",\"attributes\":{\"selected\":{\"type\":\"object\",\"name\":\"Selection\",\"id\":\"p1089\",\"attributes\":{\"indices\":[],\"line_indices\":[]}},\"selection_policy\":{\"type\":\"object\",\"name\":\"UnionRenderers\",\"id\":\"p1090\"},\"data\":{\"type\":\"map\",\"entries\":[[\"x\",{\"type\":\"ndarray\",\"array\":{\"type\":\"bytes\",\"data\":\"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\"},\"shape\":[200],\"dtype\":\"float64\",\"order\":\"little\"}],[\"low\",{\"type\":\"ndarray\",\"array\":{\"type\":\"bytes\",\"data\":\"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\"},\"shape\":[200],\"dtype\":\"float64\",\"order\":\"little\"}],[\"high\",{\"type\":\"ndarray\",\"array\":{\"type\":\"bytes\",\"data\":\"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\"},\"shape\":[200],\"dtype\":\"float64\",\"order\":\"little\"}]]}}},\"lower\":{\"type\":\"field\",\"field\":\"low\"},\"upper\":{\"type\":\"field\",\"field\":\"high\"},\"base\":{\"type\":\"field\",\"field\":\"x\"},\"line_color\":null,\"fill_color\":\"#BBBBBB\",\"fill_alpha\":0.18}},{\"type\":\"object\",\"name\":\"Label\",\"id\":\"p1107\",\"attributes\":{\"text\":\"y = 3133\\u00b7e^(-0.0001367\\u00b7x) + 7315\",\"text_color\":\"#000000\",\"text_font\":\"courier\",\"text_font_size\":\"10pt\",\"background_fill_color\":\"#FFFFFF\",\"background_fill_alpha\":0.8,\"x\":10,\"x_units\":\"screen\",\"y\":590,\"y_units\":\"screen\"}}],\"background_fill_color\":\"#FFFFFF\",\"min_border_top\":90}}]}}]}};\n  const render_items = [{\"docid\":\"e5940408-0e53-479e-ba4c-009c3114017a\",\"roots\":{\"p1110\":\"c043d1e2-5f13-4d1e-a232-d51f1edd248e\"},\"root_ids\":[\"p1110\"]}];\n  root.Bokeh.embed.embed_items_notebook(docs_json, render_items);\n  }\n  if (root.Bokeh !== undefined) {\n    embed_document(root);\n  } else {\n    let attempts = 0;\n    const timer = setInterval(function(root) {\n      if (root.Bokeh !== undefined) {\n        clearInterval(timer);\n        embed_document(root);\n      } else {\n        attempts++;\n        if (attempts > 100) {\n          clearInterval(timer);\n          console.log(\"Bokeh: ERROR: Unable to run BokehJS code because BokehJS library is missing\");\n        }\n      }\n    }, 10, root)\n  }\n})(window);",
            "application/vnd.bokehjs_exec.v0+json": ""
          },
          "metadata": {
            "application/vnd.bokehjs_exec.v0+json": {
              "id": "p1110"
            }
          },
          "output_type": "display_data"
        }
      ],
      "source": [
        "# ejecucion por json\n",
        "\n",
        "from fun_plot import plot_price_km_json\n",
        "\n",
        "plot_price_km_json(items_json,modelo)"
      ]
    },
    {
      "cell_type": "markdown",
      "id": "50dacb5d",
      "metadata": {},
      "source": [
        "### 4. Grafico db"
      ]
    },
    {
      "cell_type": "code",
      "execution_count": null,
      "id": "1ccfb84b",
      "metadata": {},
      "outputs": [
        {
          "name": "stdout",
          "output_type": "stream",
          "text": [
            "Sin datos válidos para graficar\n"
          ]
        }
      ],
      "source": [
        "# ejecucion por base de datos \n",
        "from fun_plot import plot_price_km_db\n",
        "plot_price_km_db(MODELO) "
      ]
    },
    {
      "cell_type": "code",
      "execution_count": null,
      "id": "9e7a24fd",
      "metadata": {},
      "outputs": [],
      "source": []
    },
    {
      "cell_type": "code",
      "execution_count": null,
      "id": "377d240d",
      "metadata": {},
      "outputs": [],
      "source": []
    },
    {
      "cell_type": "markdown",
      "id": "69ad15c8",
      "metadata": {},
      "source": [
        "### PARSEO DE TEXTO"
      ]
    },
    {
      "cell_type": "code",
      "execution_count": null,
      "id": "c9ac3844",
      "metadata": {},
      "outputs": [
        {
          "name": "stdout",
          "output_type": "stream",
          "text": [
            "\n",
            "---\n",
            "\n",
            "dicc_BMW_modelo = {\n",
            "    \"C 400 GT\": \"c_400_gt\",\n",
            "    \"C 400 X\": \"c_400_x\",\n",
            "    \"C 600 Sport\": \"c_600_sport\",\n",
            "    \"C 650 GT\": \"c_650_gt\",\n",
            "    \"C 650 Sport\": \"c_650_sport\",\n",
            "    \"C evolution\": \"c_evolution\",\n",
            "    \"C1 125\": \"c1_125\",\n",
            "    \"C1 200 Básico\": \"c1_200_basico\",\n",
            "    \"C1 200 Family's Friend\": \"c1_200_familys_friend\",\n",
            "    \"CE 02\": \"ce_02\",\n",
            "    \"CE 04\": \"ce_04\",\n",
            "    \"F 650\": \"f_650\",\n",
            "    \"F 650 CS Scarver\": \"f_650_cs_scarver\",\n",
            "    \"F 650 FL\": \"f_650_fl\",\n",
            "    \"F 650 G\": \"f_650_g\",\n",
            "    \"F 650 GS\": \"f_650_gs\",\n",
            "    \"F 650 GS 30 YEARS GS\": \"f_650_gs_30_years_gs\",\n",
            "    \"F 650 GS Dakar\": \"f_650_gs_dakar\",\n",
            "    \"F 650 ST\": \"f_650_st\",\n",
            "    \"F 700 GS\": \"f_700_gs\",\n",
            "    \"F 750 GS\": \"f_750\",\n",
            "    \"F 800 GS\": \"f_800_gs\",\n",
            "    \"F 800 GS 30 YEARS GS\": \"f_800_gs_30_years_gs\",\n",
            "    \"F 800 GS Adventure\": \"f_800_gs_adventure\",\n",
            "    \"F 800 GS Triple Black\": \"f_800_gs_triple_black\",\n",
            "    \"F 800 GT\": \"f_800_gt\",\n",
            "    \"F 800 R\": \"f_800_r\",\n",
            "    \"F 800 R CHRIS PFEIFFER EDITION\": \"f_800_r_chris_pfeiffer_edition\",\n",
            "    \"F 800 R CHRIS PFEIFFER EDITION ABS\": \"f_800_r_chris_pfeiffer_edition_abs\",\n",
            "    \"F 800 S\": \"f_800_s\",\n",
            "    \"F 800 ST\": \"f_800_st\",\n",
            "    \"F 850 GS\": \"f_850\",\n",
            "    \"F 900 GS\": \"f_900_gs\",\n",
            "    \"F 900 R\": \"f_900_r\",\n",
            "    \"F 900 XR\": \"f_900_xr\",\n",
            "    \"F800 R\": \"f800_r\",\n",
            "    \"G 310 GS\": \"g_310_gs\",\n",
            "    \"G 310 R\": \"g_310_r\",\n",
            "    \"G 450 X\": \"g_450_x\",\n",
            "    \"G 650 GS\": \"g_650_gs\",\n",
            "    \"G 650 GS Sertao\": \"g_650_gs_sertao\",\n",
            "    \"G 650 XChallenge\": \"g_650_xchallenge\",\n",
            "    \"G 650 Xcountry\": \"g_650_xcountry\",\n",
            "    \"HP2 Enduro\": \"hp2_enduro\",\n",
            "    \"HP2 Sport\": \"hp2_sport\",\n",
            "    \"HP4\": \"hp4\",\n",
            "    \"K 1\": \"k_1\",\n",
            "    \"K 100\": \"k_100\",\n",
            "    \"K 100 LT\": \"k_100_lt\",\n",
            "    \"K 100 LT ABS\": \"k_100_lt_abs\",\n",
            "    \"K 100 RS\": \"k_100_rs\",\n",
            "    \"K 100 RS ABS\": \"k_100_rs_abs\",\n",
            "    \"K 100 RS Baviera\": \"k_100_rs_baviera\",\n",
            "    \"K 100 RS Motorsport\": \"k_100_rs_motorsport\",\n",
            "    \"K 100 RT\": \"k_100_rt\",\n",
            "    \"K 1100 LT\": \"k_1100_lt\",\n",
            "    \"K 1100 RS\": \"k_1100_rs\",\n",
            "    \"K 1200 GT\": \"k_1200_gt\",\n",
            "    \"K 1200 LT\": \"k_1200_lt\",\n",
            "    \"K 1200 R\": \"k_1200_r\",\n",
            "    \"K 1200 R Sport\": \"k_1200_r_sport\",\n",
            "    \"K 1200 RS\": \"k_1200_rs\",\n",
            "    \"K 1200 S\": \"k_1200_s\",\n",
            "    \"K 1300 GT\": \"k_1300_gt\",\n",
            "    \"K 1300 GT Exclusive Edition\": \"k_1300_gt_exclusive_edition\",\n",
            "    \"K 1300 R\": \"k_1300_r\",\n",
            "    \"K 1300 S\": \"k_1300_s\",\n",
            "    \"K 1600 B\": \"k_1600_b\",\n",
            "    \"K 1600 GT\": \"k_1600_gt\",\n",
            "    \"K 1600 GT Sport\": \"k_1600_gt_sport\",\n",
            "    \"K 1600 GTL\": \"k_1600\",\n",
            "    \"K 1600 Grand America\": \"k_1600_grand_america\",\n",
            "    \"K 75\": \"k_75\",\n",
            "    \"K 75 C\": \"k_75_c\",\n",
            "    \"K 75 Metropolitan ABS\": \"k_75_metropolitan_abs\",\n",
            "    \"K 75 RT\": \"k_75_rt\",\n",
            "    \"K 75 RT ABS\": \"k_75_rt_abs\",\n",
            "    \"K 75 S\": \"k_75_s\",\n",
            "    \"K 75 S ABS\": \"k_75_s_abs\",\n",
            "    \"K 750\": \"k_750\",\n",
            "    \"K1600 GTL\": \"k1600_gtl\",\n",
            "    \"M 1000 R\": \"m_1000_r\",\n",
            "    \"M 1000 RR\": \"m_1000_rr\",\n",
            "    \"M 1000 XR\": \"m_1000_xr\",\n",
            "    \"R 100 GS\": \"r_100_gs\",\n",
            "    \"R 100 R\": \"r_100_r\",\n",
            "    \"R 100 R Mystic\": \"r_100_r_mystic\",\n",
            "    \"R 100 RT\": \"r_100_rt\",\n",
            "    \"R 100 S\": \"r_100_s\",\n",
            "    \"R 1100 GS\": \"r_1100_gs\",\n",
            "    \"R 1100 R\": \"r_1100_r\",\n",
            "    \"R 1100 RS\": \"r_1100_rs\",\n",
            "    \"R 1100 RT\": \"r_1100_rt\",\n",
            "    \"R 1100 S\": \"r_1100_s\",\n",
            "    \"R 1150 Boxer Cup\": \"r_1150_boxer_cup\",\n",
            "    \"R 1150 GS\": \"r_1150_gs\",\n",
            "    \"R 1150 GS Adventure\": \"r_1150_gs_adventure\",\n",
            "    \"R 1150 R\": \"r_1150_r\",\n",
            "    \"R 1150 R Rockster\": \"r_1150_r_rockster\",\n",
            "    \"R 1150 RS\": \"r_1150_rs\",\n",
            "    \"R 1150 RT\": \"r_1150_rt\",\n",
            "    \"R 12\": \"r_12\",\n",
            "    \"R 12 GS\": \"r_12_gs\",\n",
            "    \"R 12 NineT\": \"r_12_ninet\",\n",
            "    \"R 12 S\": \"r_12_s\",\n",
            "    \"R 1200 C\": \"r_1200_c\",\n",
            "    \"R 1200 C Classic\": \"r_1200_c_classic\",\n",
            "    \"R 1200 C Independent\": \"r_1200_c_independent\",\n",
            "    \"R 1200 C Montauk\": \"r_1200_c_montauk\",\n",
            "    \"R 1200 CL\": \"r_1200_cl\",\n",
            "    \"R 1200 GS\": \"r_1200_gs\",\n",
            "    \"R 1200 GS 105cv\": \"r_1200_gs_105cv\",\n",
            "    \"R 1200 GS 98cv\": \"r_1200_gs_98cv\",\n",
            "    \"R 1200 GS Adventure\": \"r_1200_gs_adventure\",\n",
            "    \"R 1200 GS Adventure 105cv\": \"r_1200_gs_adventure_105cv\",\n",
            "    \"R 1200 GS Adventure 98cv\": \"r_1200_gs_adventure_98cv\",\n",
            "    \"R 1200 GS Edición Limitada 15 aniversario\": \"r_1200_gs_edicion_limitada_15_aniversario\",\n",
            "    \"R 1200 GS Rallye\": \"r_1200_gs_rallye\",\n",
            "    \"R 1200 GS TRIPLE BLACK\": \"r_1200_gs_triple_black\",\n",
            "    \"R 1200 R\": \"r_1200_r\",\n",
            "    \"R 1200 RS\": \"r_1200_rs\",\n",
            "    \"R 1200 RT\": \"r_1200_rt\",\n",
            "    \"R 1200 RT 110cv\": \"r_1200_rt_110cv\",\n",
            "    \"R 1200 RT 98cv\": \"r_1200_rt_98cv\",\n",
            "    \"R 1200 S\": \"r_1200_s\",\n",
            "    \"R 1200 ST\": \"r_1200_st\",\n",
            "    \"R 1250 GS\": \"r_1250_gs\",\n",
            "    \"R 1250 GS Adventure\": \"r_1250_gs_adventure\",\n",
            "    \"R 1250 R\": \"r_1250_r\",\n",
            "    \"R 1250 RS\": \"r_1250_rs\",\n",
            "    \"R 1250 RT\": \"r_1250_rt\",\n",
            "    \"R 1300 GS\": \"r_1300_gs\",\n",
            "    \"R 1300 R\": \"r_1300_r\",\n",
            "    \"R 1300 RS\": \"r_1300_rs\",\n",
            "    \"R 1300 RT\": \"r_1300_rt\",\n",
            "    \"R 18\": \"r_18\",\n",
            "    \"R 80 GS\": \"r_80_gs\",\n",
            "    \"R 80 R\": \"r_80_r\",\n",
            "    \"R 850 C\": \"r_850_c\",\n",
            "    \"R 850 GS\": \"r_850_gs\",\n",
            "    \"R 850 R\": \"r_850_r\",\n",
            "    \"R 850 RT\": \"r_850_rt\",\n",
            "    \"R nineT\": \"r_ninet\",\n",
            "    \"S 1000 R\": \"s_1000_r\",\n",
            "    \"S 1000 RR\": \"s_1000_rr\",\n",
            "    \"S 1000 XR\": \"s_1000_xr\",\n",
            "    \"Special Edition\": \"special_edition\",\n",
            "}\n"
          ]
        }
      ],
      "source": [
        "\n",
        "from bs4 import BeautifulSoup\n",
        "\n",
        "\n",
        "\n",
        "# Analizar con BeautifulSoup\n",
        "soup = BeautifulSoup(text, \"html.parser\")\n",
        "\n",
        "# Encontrar todas las etiquetas <a> dentro del div con clase 'sui-ListTagcloud'\n",
        "links = soup.select(\"div.sui-ListTagcloud a\")\n",
        "\n",
        "# Crear el diccionario de marcas\n",
        "dict_marca = {}\n",
        "\n",
        "for a in links:\n",
        "    nombre = a.text.strip()                     # Ej: \"BMW\"\n",
        "    href = a.get(\"href\")                        # Ej: \"https://motos.coches.net/segunda-mano/bmw/\"\n",
        "    slug = href.split(\"/\")[-2]                  # Extrae 'bmw' del final\n",
        "    dict_marca[nombre] = slug\n",
        "\n",
        "# Mostrar resultado ordenado alfabéticamente\n",
        "#for marca in sorted(dict_marca):\n",
        "#   print(f'\"{marca}\": \"{dict_marca[marca]}\",')\n",
        "\n",
        "# Si lo quieres como variable Python\n",
        "print(\"\\n---\\n\")\n",
        "print(\"dicc_BMW_modelo = {\")\n",
        "for marca in sorted(dict_marca):\n",
        "    print(f'    \"{marca}\": \"{dict_marca[marca]}\",')\n",
        "print(\"}\")\n"
      ]
    },
    {
      "cell_type": "code",
      "execution_count": null,
      "id": "81f11f73",
      "metadata": {},
      "outputs": [],
      "source": []
    }
  ],
  "metadata": {
    "kernelspec": {
      "display_name": "base",
      "language": "python",
      "name": "python3"
    },
    "language_info": {
      "codemirror_mode": {
        "name": "ipython",
        "version": 3
      },
      "file_extension": ".py",
      "mimetype": "text/x-python",
      "name": "python",
      "nbconvert_exporter": "python",
      "pygments_lexer": "ipython3",
      "version": "3.11.7"
    }
  },
  "nbformat": 4,
  "nbformat_minor": 5
}
