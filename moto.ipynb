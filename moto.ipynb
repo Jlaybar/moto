{
    "cells": [
        {
            "cell_type": "code",
            "execution_count": null,
            "id": "60a2b45d",
            "metadata": {},
            "outputs": [],
            "source": [
                "# Carga funciones desde graf2.ipynb\n",
                "# %run -i graf2.ipynb\n"
            ]
        },
        {
            "cell_type": "code",
            "execution_count": null,
            "id": "2c60ca1e",
            "metadata": {},
            "outputs": [],
            "source": []
        },
        {
            "cell_type": "code",
            "execution_count": null,
            "id": "5f0aeabe",
            "metadata": {},
            "outputs": [],
            "source": [
                "precios = [moto.get('price', 0) for moto in result if moto.get('price')]\n",
                "if precios:\n",
                "    print(f\"Precio promedio: {sum(precios) / len(precios):.2f} €\")\n",
                "    print(f\"Precio más bajo: {min(precios)} €\")\n",
                "    print(f\"Precio más alto: {max(precios)} €\")"
            ]
        },
        {
            "cell_type": "code",
            "execution_count": null,
            "id": "05569797",
            "metadata": {},
            "outputs": [],
            "source": [
                "# Filtrar motos por precio\n",
                "motos_baratas = [moto for moto in result if moto.get('price', 0) < 10000]\n",
                "motos_caras = [moto for moto in result if moto.get('price', 0) >= 10000]\n",
                "\n",
                "print(f\"Motos por debajo de 10,000€: {len(motos_baratas)}\")\n",
                "print(f\"Motos por encima de 10,000€: {len(motos_caras)}\")"
            ]
        },
        {
            "cell_type": "code",
            "execution_count": null,
            "id": "b207d990",
            "metadata": {},
            "outputs": [],
            "source": [
                "CAMPO = 'title'\n",
                "dg = df.groupby(CAMPO).size().reset_index(name='num_registros')\n",
                "dg = dg.sort_values(by='num_registros', ascending=False)\n",
                "dg.head()"
            ]
        },
        {
            "cell_type": "code",
            "execution_count": 5,
            "id": "c4f46c3e",
            "metadata": {},
            "outputs": [
                {
                    "data": {
                        "text/html": [
                            "<div>\n",
                            "<style scoped>\n",
                            "    .dataframe tbody tr th:only-of-type {\n",
                            "        vertical-align: middle;\n",
                            "    }\n",
                            "\n",
                            "    .dataframe tbody tr th {\n",
                            "        vertical-align: top;\n",
                            "    }\n",
                            "\n",
                            "    .dataframe thead th {\n",
                            "        text-align: right;\n",
                            "    }\n",
                            "</style>\n",
                            "<table border=\"1\" class=\"dataframe\">\n",
                            "  <thead>\n",
                            "    <tr style=\"text-align: right;\">\n",
                            "      <th></th>\n",
                            "      <th>hp</th>\n",
                            "      <th>num_registros</th>\n",
                            "    </tr>\n",
                            "  </thead>\n",
                            "  <tbody>\n",
                            "    <tr>\n",
                            "      <th>0</th>\n",
                            "      <td>110.0</td>\n",
                            "      <td>11</td>\n",
                            "    </tr>\n",
                            "  </tbody>\n",
                            "</table>\n",
                            "</div>"
                        ],
                        "text/plain": [
                            "      hp  num_registros\n",
                            "0  110.0             11"
                        ]
                    },
                    "execution_count": 5,
                    "metadata": {},
                    "output_type": "execute_result"
                }
            ],
            "source": [
                "\n",
                "ATRIBUTO = 'hp'\n",
                "\n",
                "# Agrupar por año de matriculación y contar registros\n",
                "dg = (\n",
                "    df.groupby(ATRIBUTO)\n",
                "      .size()\n",
                "      .reset_index(name='num_registros')\n",
                "      .sort_values(by=ATRIBUTO,ascending=False)\n",
                ")\n",
                "dg.head()"
            ]
        },
        {
            "cell_type": "code",
            "execution_count": 6,
            "id": "7c4e1a6a",
            "metadata": {},
            "outputs": [
                {
                    "name": "stderr",
                    "output_type": "stream",
                    "text": [
                        "C:\\Users\\jaime.lopez\\AppData\\Local\\Temp\\ipykernel_8072\\3336554779.py:15: FutureWarning: The default of observed=False is deprecated and will be changed to True in a future version of pandas. Pass observed=False to retain current behavior or observed=True to adopt the future default and silence this warning.\n",
                        "  df.groupby(ATRIBUTO)\n"
                    ]
                },
                {
                    "data": {
                        "text/html": [
                            "<div>\n",
                            "<style scoped>\n",
                            "    .dataframe tbody tr th:only-of-type {\n",
                            "        vertical-align: middle;\n",
                            "    }\n",
                            "\n",
                            "    .dataframe tbody tr th {\n",
                            "        vertical-align: top;\n",
                            "    }\n",
                            "\n",
                            "    .dataframe thead th {\n",
                            "        text-align: right;\n",
                            "    }\n",
                            "</style>\n",
                            "<table border=\"1\" class=\"dataframe\">\n",
                            "  <thead>\n",
                            "    <tr style=\"text-align: right;\">\n",
                            "      <th></th>\n",
                            "      <th>rango_precio</th>\n",
                            "      <th>num_registros</th>\n",
                            "    </tr>\n",
                            "  </thead>\n",
                            "  <tbody>\n",
                            "    <tr>\n",
                            "      <th>7</th>\n",
                            "      <td>42000-48000</td>\n",
                            "      <td>0</td>\n",
                            "    </tr>\n",
                            "    <tr>\n",
                            "      <th>6</th>\n",
                            "      <td>36000-42000</td>\n",
                            "      <td>0</td>\n",
                            "    </tr>\n",
                            "    <tr>\n",
                            "      <th>5</th>\n",
                            "      <td>30000-36000</td>\n",
                            "      <td>0</td>\n",
                            "    </tr>\n",
                            "    <tr>\n",
                            "      <th>4</th>\n",
                            "      <td>24000-30000</td>\n",
                            "      <td>0</td>\n",
                            "    </tr>\n",
                            "    <tr>\n",
                            "      <th>3</th>\n",
                            "      <td>18000-24000</td>\n",
                            "      <td>2</td>\n",
                            "    </tr>\n",
                            "    <tr>\n",
                            "      <th>2</th>\n",
                            "      <td>12000-18000</td>\n",
                            "      <td>6</td>\n",
                            "    </tr>\n",
                            "    <tr>\n",
                            "      <th>1</th>\n",
                            "      <td>6000-12000</td>\n",
                            "      <td>16</td>\n",
                            "    </tr>\n",
                            "    <tr>\n",
                            "      <th>0</th>\n",
                            "      <td>0-6000</td>\n",
                            "      <td>0</td>\n",
                            "    </tr>\n",
                            "  </tbody>\n",
                            "</table>\n",
                            "</div>"
                        ],
                        "text/plain": [
                            "  rango_precio  num_registros\n",
                            "7  42000-48000              0\n",
                            "6  36000-42000              0\n",
                            "5  30000-36000              0\n",
                            "4  24000-30000              0\n",
                            "3  18000-24000              2\n",
                            "2  12000-18000              6\n",
                            "1   6000-12000             16\n",
                            "0       0-6000              0"
                        ]
                    },
                    "execution_count": 6,
                    "metadata": {},
                    "output_type": "execute_result"
                }
            ],
            "source": [
                "# Asegurarse de que la columna 'price' sea numérica\n",
                "df['price'] = pd.to_numeric(df['price'], errors='coerce')\n",
                "\n",
                "# Definir los límites de los intervalos de precio (0 a 48000, cada 6000)\n",
                "bins = np.arange(0, 48001, 6000)\n",
                "\n",
                "# Crear etiquetas como \"0-6000\", \"6000-12000\", ...\n",
                "labels = [f\"{bins[i]}-{bins[i+1]}\" for i in range(len(bins)-1)]\n",
                "\n",
                "# Asignar cada precio a su intervalo\n",
                "df['rango_precio'] = pd.cut(df['price'], bins=bins, labels=labels, right=False)\n",
                "\n",
                "ATRIBUTO = 'rango_precio'\n",
                "dg = (\n",
                "    df.groupby(ATRIBUTO)\n",
                "      .size()\n",
                "      .reset_index(name='num_registros')\n",
                "      .sort_values(by=ATRIBUTO,ascending=False)\n",
                ")\n",
                "dg\n"
            ]
        },
        {
            "cell_type": "code",
            "execution_count": null,
            "id": "df91437b",
            "metadata": {},
            "outputs": [],
            "source": []
        }
    ],
    "metadata": {
        "kernelspec": {
            "display_name": "base",
            "language": "python",
            "name": "python3"
        },
        "language_info": {
            "codemirror_mode": {
                "name": "ipython",
                "version": 3
            },
            "file_extension": ".py",
            "mimetype": "text/x-python",
            "name": "python",
            "nbconvert_exporter": "python",
            "pygments_lexer": "ipython3",
            "version": "3.11.7"
        }
    },
    "nbformat": 4,
    "nbformat_minor": 5
}
